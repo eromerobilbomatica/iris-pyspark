{
 "cells": [
  {
   "cell_type": "markdown",
   "id": "a6493405-23b2-45f9-849a-602a0dfecea5",
   "metadata": {},
   "source": [
    "# Comprobaciones de versiones instaladas"
   ]
  },
  {
   "cell_type": "code",
   "execution_count": 1,
   "id": "e899c11e-a2ea-4dca-986d-71991dbd57ea",
   "metadata": {
    "tags": []
   },
   "outputs": [
    {
     "name": "stdout",
     "output_type": "stream",
     "text": [
      "Python 3.8.13\n"
     ]
    }
   ],
   "source": [
    "!python --version"
   ]
  },
  {
   "cell_type": "code",
   "execution_count": 2,
   "id": "2bf5ac75-52ae-45ef-b5df-097f7bf6cadc",
   "metadata": {
    "tags": []
   },
   "outputs": [
    {
     "name": "stdout",
     "output_type": "stream",
     "text": [
      "/usr/bin/sh: 1: java: not found\n"
     ]
    }
   ],
   "source": [
    "!java -version"
   ]
  },
  {
   "cell_type": "code",
   "execution_count": 3,
   "id": "ca8c1554-0a22-4425-965e-544d10aace31",
   "metadata": {
    "tags": []
   },
   "outputs": [
    {
     "name": "stdout",
     "output_type": "stream",
     "text": [
      "/home/coder/miniconda3/envs/demml/lib/python3.8/site-packages/pyspark/jars/spark-sql_2.12-3.3.1.jar\n"
     ]
    }
   ],
   "source": [
    "!find / -iname spark*.jar 2>/dev/null|grep sql"
   ]
  },
  {
   "cell_type": "code",
   "execution_count": 4,
   "id": "5402206c-b10b-4005-a434-ecb064617e64",
   "metadata": {
    "tags": []
   },
   "outputs": [
    {
     "name": "stdout",
     "output_type": "stream",
     "text": [
      "AWS_REGION: us-east-1\n",
      "AWS_SECRET_ACCESS_KEY: t4bl4red0nd4\n",
      "AWS_ACCESS_KEY_ID: admin\n"
     ]
    }
   ],
   "source": [
    "import os\n",
    "\n",
    "# print(os.environ[\"AWS_REGION\"])\n",
    "# os.environ[\"AWS_SECRET_ACCESS_KEY\"]\n",
    "# os.environ[\"AWS_ACCESS_KEY_ID\"]\n",
    "\n",
    "# Obtener todas las variables de entorno\n",
    "env_variables = os.environ\n",
    "\n",
    "# Imprimir todas las variables de entorno de forma legible\n",
    "for key, value in env_variables.items():\n",
    "    if \"AWS\" in key:\n",
    "        print(f\"{key}: {value}\")\n"
   ]
  },
  {
   "cell_type": "code",
   "execution_count": 5,
   "id": "c19efa5f-5289-4e17-a573-207f90e77951",
   "metadata": {
    "tags": []
   },
   "outputs": [
    {
     "name": "stdout",
     "output_type": "stream",
     "text": [
      "Requirement already satisfied: pyspark==3.3.1 in /home/coder/miniconda3/envs/demml/lib/python3.8/site-packages (3.3.1)\n",
      "Requirement already satisfied: py4j==0.10.9.5 in /home/coder/miniconda3/envs/demml/lib/python3.8/site-packages (from pyspark==3.3.1) (0.10.9.5)\n"
     ]
    }
   ],
   "source": [
    "!pip install pyspark==3.3.1"
   ]
  },
  {
   "cell_type": "markdown",
   "id": "ed8c1338-8e6e-443c-8ac4-bde69c1d8626",
   "metadata": {},
   "source": [
    "# Iniciar conexión spark"
   ]
  },
  {
   "cell_type": "code",
   "execution_count": 6,
   "id": "2aed4b31-d70a-4811-bc73-b9135cecdd21",
   "metadata": {
    "tags": []
   },
   "outputs": [
    {
     "data": {
      "text/plain": [
       "'172.21.23.248'"
      ]
     },
     "execution_count": 6,
     "metadata": {},
     "output_type": "execute_result"
    }
   ],
   "source": [
    "import os\n",
    "import pandas as pd\n",
    "import numpy as np\n",
    "import pyspark\n",
    "from pyspark.sql import SparkSession\n",
    "from pyspark.sql.types import StructType, StructField, FloatType, BooleanType\n",
    "from pyspark.sql.types import DoubleType, IntegerType, StringType\n",
    "from pyspark import SQLContext\n",
    "\n",
    "#os.environ['PYSPARK_SUBMIT_ARGS'] = '--packages org.apache.iceberg:iceberg-spark-runtime-3.2_2.12:1.1.0,org.mariadb.jdbc:mariadb-java-client:2.3.0,org.postgresql:postgresql:42.5.4 pyspark-shell'\n",
    "dst_lh_url  = os.environ.get('DST_LH_URL', 'spark://spark-master-0.spark-headless.demml.svc.cluster.local:7077')\n",
    "dst_lh_appn = os.environ.get('DST_LH_APPN', 'conexion_pyspark_iceberg_edu')\n",
    "import subprocess\n",
    "my_pod_ip = subprocess.run(['hostname', '-I'], stdout=subprocess.PIPE).stdout.decode('utf-8').strip(' \\n\\t')\n",
    "my_pod_ip\n"
   ]
  },
  {
   "cell_type": "code",
   "execution_count": 8,
   "id": "d89b1820-63fe-44ad-94b1-147af40f7813",
   "metadata": {
    "tags": []
   },
   "outputs": [
    {
     "name": "stdout",
     "output_type": "stream",
     "text": [
      ":: loading settings :: url = jar:file:/home/coder/miniconda3/envs/demml/lib/python3.8/site-packages/pyspark/jars/ivy-2.5.0.jar!/org/apache/ivy/core/settings/ivysettings.xml\n"
     ]
    },
    {
     "name": "stderr",
     "output_type": "stream",
     "text": [
      "Ivy Default Cache set to: /home/coder/.ivy2/cache\n",
      "The jars for the packages stored in: /home/coder/.ivy2/jars\n",
      "org.apache.iceberg#iceberg-spark-runtime-3.3_2.12 added as a dependency\n",
      "org.mariadb.jdbc#mariadb-java-client added as a dependency\n",
      "org.postgresql#postgresql added as a dependency\n",
      "software.amazon.awssdk#bundle added as a dependency\n",
      "software.amazon.awssdk#url-connection-client added as a dependency\n",
      "software.amazon.awssdk#s3 added as a dependency\n",
      "software.amazon.awssdk#iam added as a dependency\n",
      "org.apache.hadoop#hadoop-aws added as a dependency\n",
      ":: resolving dependencies :: org.apache.spark#spark-submit-parent-c28f4f0a-01a7-4cbc-9006-57c027f6e75c;1.0\n",
      "\tconfs: [default]\n",
      "\tfound org.apache.iceberg#iceberg-spark-runtime-3.3_2.12;1.1.0 in central\n",
      "\tfound org.mariadb.jdbc#mariadb-java-client;2.3.0 in central\n",
      "\tfound org.postgresql#postgresql;42.5.4 in central\n",
      "\tfound org.checkerframework#checker-qual;3.5.0 in central\n",
      "\tfound software.amazon.awssdk#bundle;2.17.257 in central\n",
      "\tfound software.amazon.eventstream#eventstream;1.0.1 in central\n",
      "\tfound software.amazon.awssdk#url-connection-client;2.17.257 in central\n",
      "\tfound software.amazon.awssdk#utils;2.17.257 in central\n",
      "\tfound org.reactivestreams#reactive-streams;1.0.3 in central\n",
      "\tfound software.amazon.awssdk#annotations;2.17.257 in central\n",
      "\tfound org.slf4j#slf4j-api;1.7.30 in central\n",
      "\tfound software.amazon.awssdk#http-client-spi;2.17.257 in central\n",
      "\tfound software.amazon.awssdk#metrics-spi;2.17.257 in central\n",
      "\tfound software.amazon.awssdk#s3;2.17.257 in central\n",
      "\tfound software.amazon.awssdk#aws-xml-protocol;2.17.257 in central\n",
      "\tfound software.amazon.awssdk#aws-query-protocol;2.17.257 in central\n",
      "\tfound software.amazon.awssdk#protocol-core;2.17.257 in central\n",
      "\tfound software.amazon.awssdk#sdk-core;2.17.257 in central\n",
      "\tfound software.amazon.awssdk#profiles;2.17.257 in central\n",
      "\tfound software.amazon.awssdk#aws-core;2.17.257 in central\n",
      "\tfound software.amazon.awssdk#regions;2.17.257 in central\n",
      "\tfound software.amazon.awssdk#json-utils;2.17.257 in central\n",
      "\tfound software.amazon.awssdk#third-party-jackson-core;2.17.257 in central\n",
      "\tfound software.amazon.awssdk#auth;2.17.257 in central\n",
      "\tfound software.amazon.awssdk#arns;2.17.257 in central\n",
      "\tfound software.amazon.awssdk#apache-client;2.17.257 in central\n",
      "\tfound org.apache.httpcomponents#httpclient;4.5.13 in central\n",
      "\tfound org.apache.httpcomponents#httpcore;4.4.13 in central\n",
      "\tfound commons-logging#commons-logging;1.2 in central\n",
      "\tfound commons-codec#commons-codec;1.11 in central\n",
      "\tfound software.amazon.awssdk#netty-nio-client;2.17.257 in central\n",
      "\tfound io.netty#netty-codec-http;4.1.77.Final in central\n",
      "\tfound io.netty#netty-common;4.1.77.Final in central\n",
      "\tfound io.netty#netty-buffer;4.1.77.Final in central\n",
      "\tfound io.netty#netty-transport;4.1.77.Final in central\n",
      "\tfound io.netty#netty-resolver;4.1.77.Final in central\n",
      "\tfound io.netty#netty-codec;4.1.77.Final in central\n",
      "\tfound io.netty#netty-handler;4.1.77.Final in central\n",
      "\tfound io.netty#netty-codec-http2;4.1.77.Final in central\n",
      "\tfound io.netty#netty-transport-classes-epoll;4.1.77.Final in central\n",
      "\tfound io.netty#netty-transport-native-unix-common;4.1.77.Final in central\n",
      "\tfound software.amazon.awssdk#iam;2.17.257 in central\n",
      "\tfound org.apache.hadoop#hadoop-aws;3.2.3 in central\n",
      "\tfound com.amazonaws#aws-java-sdk-bundle;1.11.901 in central\n",
      ":: resolution report :: resolve 1455ms :: artifacts dl 30ms\n",
      "\t:: modules in use:\n",
      "\tcom.amazonaws#aws-java-sdk-bundle;1.11.901 from central in [default]\n",
      "\tcommons-codec#commons-codec;1.11 from central in [default]\n",
      "\tcommons-logging#commons-logging;1.2 from central in [default]\n",
      "\tio.netty#netty-buffer;4.1.77.Final from central in [default]\n",
      "\tio.netty#netty-codec;4.1.77.Final from central in [default]\n",
      "\tio.netty#netty-codec-http;4.1.77.Final from central in [default]\n",
      "\tio.netty#netty-codec-http2;4.1.77.Final from central in [default]\n",
      "\tio.netty#netty-common;4.1.77.Final from central in [default]\n",
      "\tio.netty#netty-handler;4.1.77.Final from central in [default]\n",
      "\tio.netty#netty-resolver;4.1.77.Final from central in [default]\n",
      "\tio.netty#netty-transport;4.1.77.Final from central in [default]\n",
      "\tio.netty#netty-transport-classes-epoll;4.1.77.Final from central in [default]\n",
      "\tio.netty#netty-transport-native-unix-common;4.1.77.Final from central in [default]\n",
      "\torg.apache.hadoop#hadoop-aws;3.2.3 from central in [default]\n",
      "\torg.apache.httpcomponents#httpclient;4.5.13 from central in [default]\n",
      "\torg.apache.httpcomponents#httpcore;4.4.13 from central in [default]\n",
      "\torg.apache.iceberg#iceberg-spark-runtime-3.3_2.12;1.1.0 from central in [default]\n",
      "\torg.checkerframework#checker-qual;3.5.0 from central in [default]\n",
      "\torg.mariadb.jdbc#mariadb-java-client;2.3.0 from central in [default]\n",
      "\torg.postgresql#postgresql;42.5.4 from central in [default]\n",
      "\torg.reactivestreams#reactive-streams;1.0.3 from central in [default]\n",
      "\torg.slf4j#slf4j-api;1.7.30 from central in [default]\n",
      "\tsoftware.amazon.awssdk#annotations;2.17.257 from central in [default]\n",
      "\tsoftware.amazon.awssdk#apache-client;2.17.257 from central in [default]\n",
      "\tsoftware.amazon.awssdk#arns;2.17.257 from central in [default]\n",
      "\tsoftware.amazon.awssdk#auth;2.17.257 from central in [default]\n",
      "\tsoftware.amazon.awssdk#aws-core;2.17.257 from central in [default]\n",
      "\tsoftware.amazon.awssdk#aws-query-protocol;2.17.257 from central in [default]\n",
      "\tsoftware.amazon.awssdk#aws-xml-protocol;2.17.257 from central in [default]\n",
      "\tsoftware.amazon.awssdk#bundle;2.17.257 from central in [default]\n",
      "\tsoftware.amazon.awssdk#http-client-spi;2.17.257 from central in [default]\n",
      "\tsoftware.amazon.awssdk#iam;2.17.257 from central in [default]\n",
      "\tsoftware.amazon.awssdk#json-utils;2.17.257 from central in [default]\n",
      "\tsoftware.amazon.awssdk#metrics-spi;2.17.257 from central in [default]\n",
      "\tsoftware.amazon.awssdk#netty-nio-client;2.17.257 from central in [default]\n",
      "\tsoftware.amazon.awssdk#profiles;2.17.257 from central in [default]\n",
      "\tsoftware.amazon.awssdk#protocol-core;2.17.257 from central in [default]\n",
      "\tsoftware.amazon.awssdk#regions;2.17.257 from central in [default]\n",
      "\tsoftware.amazon.awssdk#s3;2.17.257 from central in [default]\n",
      "\tsoftware.amazon.awssdk#sdk-core;2.17.257 from central in [default]\n",
      "\tsoftware.amazon.awssdk#third-party-jackson-core;2.17.257 from central in [default]\n",
      "\tsoftware.amazon.awssdk#url-connection-client;2.17.257 from central in [default]\n",
      "\tsoftware.amazon.awssdk#utils;2.17.257 from central in [default]\n",
      "\tsoftware.amazon.eventstream#eventstream;1.0.1 from central in [default]\n",
      "\t---------------------------------------------------------------------\n",
      "\t|                  |            modules            ||   artifacts   |\n",
      "\t|       conf       | number| search|dwnlded|evicted|| number|dwnlded|\n",
      "\t---------------------------------------------------------------------\n",
      "\t|      default     |   44  |   0   |   0   |   0   ||   44  |   0   |\n",
      "\t---------------------------------------------------------------------\n",
      ":: retrieving :: org.apache.spark#spark-submit-parent-c28f4f0a-01a7-4cbc-9006-57c027f6e75c\n",
      "\tconfs: [default]\n",
      "\t0 artifacts copied, 44 already retrieved (0kB/14ms)\n"
     ]
    },
    {
     "name": "stdout",
     "output_type": "stream",
     "text": [
      "23/09/19 06:14:52 WARN NativeCodeLoader: Unable to load native-hadoop library for your platform... using builtin-java classes where applicable\n"
     ]
    },
    {
     "name": "stderr",
     "output_type": "stream",
     "text": [
      "Setting default log level to \"WARN\".\n",
      "To adjust logging level use sc.setLogLevel(newLevel). For SparkR, use setLogLevel(newLevel).\n"
     ]
    },
    {
     "data": {
      "text/html": [
       "\n",
       "            <div>\n",
       "                <p><b>SparkSession - in-memory</b></p>\n",
       "                \n",
       "        <div>\n",
       "            <p><b>SparkContext</b></p>\n",
       "\n",
       "            <p><a href=\"http://172.21.23.248:4040\">Spark UI</a></p>\n",
       "\n",
       "            <dl>\n",
       "              <dt>Version</dt>\n",
       "                <dd><code>v3.3.1</code></dd>\n",
       "              <dt>Master</dt>\n",
       "                <dd><code>spark://spark-master-0.spark-headless.demml.svc.cluster.local:7077</code></dd>\n",
       "              <dt>AppName</dt>\n",
       "                <dd><code>conexion_pyspark_iceberg_edu</code></dd>\n",
       "            </dl>\n",
       "        </div>\n",
       "        \n",
       "            </div>\n",
       "        "
      ],
      "text/plain": [
       "<pyspark.sql.session.SparkSession at 0x7fe883f93820>"
      ]
     },
     "execution_count": 8,
     "metadata": {},
     "output_type": "execute_result"
    }
   ],
   "source": [
    "spark = SparkSession.builder \\\n",
    "    .master(dst_lh_url) \\\n",
    "    .appName(dst_lh_appn) \\\n",
    "    .config('spark.jars.packages','org.apache.iceberg:iceberg-spark-runtime-3.3_2.12:1.1.0,org.mariadb.jdbc:mariadb-java-client:2.3.0,org.postgresql:postgresql:42.5.4,software.amazon.awssdk:bundle:2.17.257,software.amazon.awssdk:url-connection-client:2.17.257,software.amazon.awssdk:s3:2.17.257,software.amazon.awssdk:iam:2.17.257,org.apache.hadoop:hadoop-aws:3.2.3') \\\n",
    "    .config('spark.sql.extensions','org.apache.iceberg.spark.extensions.IcebergSparkSessionExtensions') \\\n",
    "    .config('spark.sql.catalog.spark_catalog','org.apache.iceberg.spark.SparkSessionCatalog') \\\n",
    "    .config('spark.sql.catalog.spark_catalog.catalog-impl','org.apache.iceberg.jdbc.JdbcCatalog') \\\n",
    "    .config('spark.sql.catalog.spark_catalog.uri','jdbc:postgresql://postgresql:5432/iceberg') \\\n",
    "    .config('spark.driver.host', my_pod_ip) \\\n",
    "    .config('spark.sql.catalog.spark_catalog.jdbc.useSSL','false') \\\n",
    "    .config('spark.sql.catalog.spark_catalog.jdbc.user','iceberg') \\\n",
    "    .config('spark.sql.catalog.spark_catalog.jdbc.password','iceberg') \\\n",
    "    .config('spark.sql.catalog.spark_catalog.warehouse','s3a://warehouse/') \\\n",
    "    .config('spark.sql.catalog.spark_catalog.s3.endpoint','http://minio:9000') \\\n",
    "    .config('spark.sql.catalog.spark_catalog.io-impl', 'org.apache.iceberg.aws.s3.S3FileIO') \\\n",
    "    .config('spark.sql.defaultCatalog','spark_catalog') \\\n",
    "    .config('spark.hadoop.fs.s3a.endpoint','http://minio:9000') \\\n",
    "    .config('spark.hadoop.fs.s3a.access.key','admin') \\\n",
    "    .config('spark.hadoop.fs.s3a.secret.key','t4bl4red0nd4') \\\n",
    "    .config('spark.hadoop.fs.s3a.path.style.access','true') \\\n",
    "    .config('spark.hadoop.fs.s3a.impl','org.apache.hadoop.fs.s3a.S3AFileSystem') \\\n",
    "    .config(\"spark.hadoop.fs.s3a.connection.ssl.enabled\", \"false\") \\\n",
    "    .config(\"spark.hadoop.fs.s3a.aws.credentials.provider\", \"org.apache.hadoop.fs.s3a.SimpleAWSCredentialsProvider\") \\\n",
    "    .getOrCreate()\n",
    "spark"
   ]
  },
  {
   "cell_type": "code",
   "execution_count": 9,
   "id": "e665cb26-b8b8-454f-a0b4-754de19cff84",
   "metadata": {},
   "outputs": [
    {
     "name": "stdout",
     "output_type": "stream",
     "text": [
      "+-------------+---------+\n",
      "|      catalog|namespace|\n",
      "+-------------+---------+\n",
      "|spark_catalog|  default|\n",
      "+-------------+---------+\n",
      "\n"
     ]
    }
   ],
   "source": [
    "spark.sql(\"show current namespace\").show() "
   ]
  },
  {
   "cell_type": "code",
   "execution_count": 10,
   "id": "0eafd238-f20a-4086-9e00-6c6c03afbbbc",
   "metadata": {},
   "outputs": [
    {
     "name": "stdout",
     "output_type": "stream",
     "text": [
      "+---------+\n",
      "|namespace|\n",
      "+---------+\n",
      "|  default|\n",
      "+---------+\n",
      "\n"
     ]
    }
   ],
   "source": [
    "spark.sql(\"show databases\").show() "
   ]
  },
  {
   "cell_type": "code",
   "execution_count": 11,
   "id": "5a1bf729-7a2b-4fce-b920-560bbdd82887",
   "metadata": {},
   "outputs": [
    {
     "name": "stdout",
     "output_type": "stream",
     "text": [
      "+---------+---------+-----------+\n",
      "|namespace|tableName|isTemporary|\n",
      "+---------+---------+-----------+\n",
      "+---------+---------+-----------+\n",
      "\n"
     ]
    }
   ],
   "source": [
    "spark.sql(\"show tables\").show() "
   ]
  },
  {
   "cell_type": "markdown",
   "id": "b3787b56-5070-4ed7-aebc-b3c36c78492b",
   "metadata": {},
   "source": [
    "# Creación de tabla desde spark en minio (Iceberg)\n",
    "\n",
    "!!! NO borrar siguiente celda comentada ¡¡¡"
   ]
  },
  {
   "cell_type": "code",
   "execution_count": 16,
   "id": "61f129e7-4ce9-4f5f-9bab-80f4ad7a0efd",
   "metadata": {},
   "outputs": [],
   "source": [
    "# spark.sql(\"CREATE TABLE default.IRIS_EDU_V5 (sepal_length double, sepal_width double, petal_length double, petal_width double, variety string, target int) USING iceberg OPTIONS ('write.object-storage.enabled'='true', 'write.data-path'='s3://warehouse/', 'write.format'='parquet');\")"
   ]
  },
  {
   "cell_type": "code",
   "execution_count": 12,
   "id": "042d2a11-b4a1-4610-b735-1508a0c94c0e",
   "metadata": {
    "tags": []
   },
   "outputs": [
    {
     "name": "stderr",
     "output_type": "stream",
     "text": [
      "SLF4J: Failed to load class \"org.slf4j.impl.StaticLoggerBinder\".\n",
      "SLF4J: Defaulting to no-operation (NOP) logger implementation\n",
      "SLF4J: See http://www.slf4j.org/codes.html#StaticLoggerBinder for further details.\n",
      "[Stage 0:>                                                          (0 + 1) / 1]\r"
     ]
    },
    {
     "name": "stdout",
     "output_type": "stream",
     "text": [
      "+------------+-----------+------------+-----------+-------+------+\n",
      "|sepal_length|sepal_width|petal_length|petal_width|variety|target|\n",
      "+------------+-----------+------------+-----------+-------+------+\n",
      "|         5.1|        3.5|         1.4|        0.2| setosa|     0|\n",
      "|         4.9|        3.0|         1.4|        0.2| setosa|     0|\n",
      "|         4.7|        3.2|         1.3|        0.2| setosa|     0|\n",
      "|         4.6|        3.1|         1.5|        0.2| setosa|     0|\n",
      "|         5.0|        3.6|         1.4|        0.2| setosa|     0|\n",
      "+------------+-----------+------------+-----------+-------+------+\n",
      "only showing top 5 rows\n",
      "\n"
     ]
    },
    {
     "name": "stderr",
     "output_type": "stream",
     "text": [
      "                                                                                \r"
     ]
    }
   ],
   "source": [
    "spark.table(\"spark_catalog.default.IRIS_EDU_V5\").show(5)\n",
    "# spark.sql(\"SELECT * FROM spark_catalog.default.IRIS_EDU_V5\").show()"
   ]
  },
  {
   "cell_type": "markdown",
   "id": "0648eb92-dc86-4610-b8af-f99b5df4ecd1",
   "metadata": {},
   "source": [
    "# Creo un dataframe de pyspark a partir de un dataframe de pandas y lo escribo en iceberg (se puede ver en minio) "
   ]
  },
  {
   "cell_type": "code",
   "execution_count": null,
   "id": "12745cb0-2ba7-4ef7-a77d-1bc4b39d7997",
   "metadata": {
    "tags": []
   },
   "outputs": [],
   "source": [
    "import pandas as pd\n",
    "from sklearn.datasets import load_iris\n",
    "\n",
    "iris = load_iris()\n",
    "\n",
    "df = pd.DataFrame(data=iris.data, columns=iris.feature_names)\n",
    "df['variety'] = iris.target_names[iris.target]\n",
    "df['target'] = iris.target\n",
    "\n",
    "df.columns = ['sepal_length','sepal_width','petal_length','petal_width','variety','target']\n",
    "\n",
    "dfs = spark.createDataFrame(df)\n",
    "dfs.show(5)"
   ]
  },
  {
   "cell_type": "markdown",
   "id": "61cfa856-ce50-427c-a440-82888f181c80",
   "metadata": {},
   "source": [
    "# Creo datos sinteéticos en base a la carga inicial de iris"
   ]
  },
  {
   "cell_type": "code",
   "execution_count": 33,
   "id": "68371cce-24b5-4672-8c6f-129c4782ddae",
   "metadata": {
    "tags": []
   },
   "outputs": [],
   "source": [
    "for i in range(1000):\n",
    "    pivot = df.sample(10000,replace=True)\n",
    "    pivot_s = spark.createDataFrame(pivot)\n",
    "    pivot_s.write.format(\"iceberg\").mode(\"append\").save(\"default.IRIS_EDU_V5\")\n",
    "    # pivot_s.show(5)"
   ]
  },
  {
   "cell_type": "code",
   "execution_count": 34,
   "id": "4e1f45a5-da58-45e4-a4df-4dc3d441268f",
   "metadata": {
    "tags": []
   },
   "outputs": [
    {
     "name": "stderr",
     "output_type": "stream",
     "text": [
      "                                                                                \r"
     ]
    },
    {
     "data": {
      "text/plain": [
       "15520150"
      ]
     },
     "execution_count": 34,
     "metadata": {},
     "output_type": "execute_result"
    }
   ],
   "source": [
    "df_size = spark.table(\"spark_catalog.default.IRIS_EDU_V5\")\n",
    "\n",
    "df_size.count()\n"
   ]
  },
  {
   "cell_type": "code",
   "execution_count": 16,
   "id": "a0bfea67-6bf4-4f58-aade-5a3680eae817",
   "metadata": {},
   "outputs": [],
   "source": [
    "# dfs.write.format(\"iceberg\").mode(\"append\").save(\"default.IRIS_EDU_V5\")"
   ]
  },
  {
   "cell_type": "code",
   "execution_count": 35,
   "id": "f54959ec-c973-476b-96b7-69ca0292637d",
   "metadata": {
    "tags": []
   },
   "outputs": [
    {
     "data": {
      "text/html": [
       "<pre style=\"white-space:pre;overflow-x:auto;line-height:normal;font-family:Menlo,'DejaVu Sans Mono',consolas,'Courier New',monospace\"><span style=\"color: #7fbfbf; text-decoration-color: #7fbfbf\">[09/19/23 07:06:24] </span><span style=\"color: #000080; text-decoration-color: #000080\">INFO    </span> Resolved project path as: <span style=\"color: #800080; text-decoration-color: #800080\">/home/coder/eromero/</span><span style=\"color: #ff00ff; text-decoration-color: #ff00ff\">iris-pyspark.</span>            <a href=\"file:///home/coder/miniconda3/envs/demml/lib/python3.8/site-packages/kedro/ipython/__init__.py\" target=\"_blank\"><span style=\"color: #7f7f7f; text-decoration-color: #7f7f7f\">__init__.py</span></a><span style=\"color: #7f7f7f; text-decoration-color: #7f7f7f\">:</span><a href=\"file:///home/coder/miniconda3/envs/demml/lib/python3.8/site-packages/kedro/ipython/__init__.py#139\" target=\"_blank\"><span style=\"color: #7f7f7f; text-decoration-color: #7f7f7f\">139</span></a>\n",
       "<span style=\"color: #7fbfbf; text-decoration-color: #7fbfbf\">                    </span>         To set a different path, run <span style=\"color: #008000; text-decoration-color: #008000\">'%reload_kedro &lt;project_root&gt;'</span>            <span style=\"color: #7f7f7f; text-decoration-color: #7f7f7f\">               </span>\n",
       "</pre>\n"
      ],
      "text/plain": [
       "\u001b[2;36m[09/19/23 07:06:24]\u001b[0m\u001b[2;36m \u001b[0m\u001b[34mINFO    \u001b[0m Resolved project path as: \u001b[35m/home/coder/eromero/\u001b[0m\u001b[95miris-pyspark.\u001b[0m            \u001b]8;id=221258;file:///home/coder/miniconda3/envs/demml/lib/python3.8/site-packages/kedro/ipython/__init__.py\u001b\\\u001b[2m__init__.py\u001b[0m\u001b]8;;\u001b\\\u001b[2m:\u001b[0m\u001b]8;id=535842;file:///home/coder/miniconda3/envs/demml/lib/python3.8/site-packages/kedro/ipython/__init__.py#139\u001b\\\u001b[2m139\u001b[0m\u001b]8;;\u001b\\\n",
       "\u001b[2;36m                    \u001b[0m         To set a different path, run \u001b[32m'%reload_kedro \u001b[0m\u001b[32m<\u001b[0m\u001b[32mproject_root\u001b[0m\u001b[32m>\u001b[0m\u001b[32m'\u001b[0m            \u001b[2m               \u001b[0m\n"
      ]
     },
     "metadata": {},
     "output_type": "display_data"
    },
    {
     "data": {
      "text/html": [
       "<pre style=\"white-space:pre;overflow-x:auto;line-height:normal;font-family:Menlo,'DejaVu Sans Mono',consolas,'Courier New',monospace\"><span style=\"color: #7fbfbf; text-decoration-color: #7fbfbf\">[09/19/23 07:06:24] </span><span style=\"color: #800000; text-decoration-color: #800000\">WARNING </span> <span style=\"color: #800080; text-decoration-color: #800080\">/home/coder/miniconda3/envs/demml/lib/python3.8/site-packages/kedro/io</span> <a href=\"file:///home/coder/miniconda3/envs/demml/lib/python3.8/warnings.py\" target=\"_blank\"><span style=\"color: #7f7f7f; text-decoration-color: #7f7f7f\">warnings.py</span></a><span style=\"color: #7f7f7f; text-decoration-color: #7f7f7f\">:</span><a href=\"file:///home/coder/miniconda3/envs/demml/lib/python3.8/warnings.py#109\" target=\"_blank\"><span style=\"color: #7f7f7f; text-decoration-color: #7f7f7f\">109</span></a>\n",
       "<span style=\"color: #7fbfbf; text-decoration-color: #7fbfbf\">                    </span>         <span style=\"color: #800080; text-decoration-color: #800080\">/</span><span style=\"color: #ff00ff; text-decoration-color: #ff00ff\">data_catalog.py</span>:<span style=\"color: #008080; text-decoration-color: #008080; font-weight: bold\">300</span>: FutureWarning: Defining the <span style=\"color: #008000; text-decoration-color: #008000\">'layer'</span> attribute at <span style=\"color: #7f7f7f; text-decoration-color: #7f7f7f\">               </span>\n",
       "<span style=\"color: #7fbfbf; text-decoration-color: #7fbfbf\">                    </span>         the top level is deprecated and will be removed in Kedro <span style=\"color: #008080; text-decoration-color: #008080; font-weight: bold\">0.19</span>.<span style=\"color: #008080; text-decoration-color: #008080; font-weight: bold\">0</span>.       <span style=\"color: #7f7f7f; text-decoration-color: #7f7f7f\">               </span>\n",
       "<span style=\"color: #7fbfbf; text-decoration-color: #7fbfbf\">                    </span>         Please move <span style=\"color: #008000; text-decoration-color: #008000\">'layer'</span> inside the <span style=\"color: #008000; text-decoration-color: #008000\">'metadata'</span> -&gt; <span style=\"color: #008000; text-decoration-color: #008000\">'kedro-viz'</span> attributes.   <span style=\"color: #7f7f7f; text-decoration-color: #7f7f7f\">               </span>\n",
       "<span style=\"color: #7fbfbf; text-decoration-color: #7fbfbf\">                    </span>         See                                                                    <span style=\"color: #7f7f7f; text-decoration-color: #7f7f7f\">               </span>\n",
       "<span style=\"color: #7fbfbf; text-decoration-color: #7fbfbf\">                    </span>         <span style=\"color: #0000ff; text-decoration-color: #0000ff; text-decoration: underline\">https://docs.kedro.org/en/latest/visualisation/kedro-viz_visualisation</span> <span style=\"color: #7f7f7f; text-decoration-color: #7f7f7f\">               </span>\n",
       "<span style=\"color: #7fbfbf; text-decoration-color: #7fbfbf\">                    </span>         <span style=\"color: #0000ff; text-decoration-color: #0000ff; text-decoration: underline\">.html#visualise-layers</span> for more information.                           <span style=\"color: #7f7f7f; text-decoration-color: #7f7f7f\">               </span>\n",
       "<span style=\"color: #7fbfbf; text-decoration-color: #7fbfbf\">                    </span>           <span style=\"color: #800080; text-decoration-color: #800080; font-weight: bold\">warnings.warn</span><span style=\"font-weight: bold\">(</span>                                                       <span style=\"color: #7f7f7f; text-decoration-color: #7f7f7f\">               </span>\n",
       "<span style=\"color: #7fbfbf; text-decoration-color: #7fbfbf\">                    </span>                                                                                <span style=\"color: #7f7f7f; text-decoration-color: #7f7f7f\">               </span>\n",
       "</pre>\n"
      ],
      "text/plain": [
       "\u001b[2;36m[09/19/23 07:06:24]\u001b[0m\u001b[2;36m \u001b[0m\u001b[31mWARNING \u001b[0m \u001b[35m/home/coder/miniconda3/envs/demml/lib/python3.8/site-packages/kedro/io\u001b[0m \u001b]8;id=803600;file:///home/coder/miniconda3/envs/demml/lib/python3.8/warnings.py\u001b\\\u001b[2mwarnings.py\u001b[0m\u001b]8;;\u001b\\\u001b[2m:\u001b[0m\u001b]8;id=350424;file:///home/coder/miniconda3/envs/demml/lib/python3.8/warnings.py#109\u001b\\\u001b[2m109\u001b[0m\u001b]8;;\u001b\\\n",
       "\u001b[2;36m                    \u001b[0m         \u001b[35m/\u001b[0m\u001b[95mdata_catalog.py\u001b[0m:\u001b[1;36m300\u001b[0m: FutureWarning: Defining the \u001b[32m'layer'\u001b[0m attribute at \u001b[2m               \u001b[0m\n",
       "\u001b[2;36m                    \u001b[0m         the top level is deprecated and will be removed in Kedro \u001b[1;36m0.19\u001b[0m.\u001b[1;36m0\u001b[0m.       \u001b[2m               \u001b[0m\n",
       "\u001b[2;36m                    \u001b[0m         Please move \u001b[32m'layer'\u001b[0m inside the \u001b[32m'metadata'\u001b[0m -> \u001b[32m'kedro-viz'\u001b[0m attributes.   \u001b[2m               \u001b[0m\n",
       "\u001b[2;36m                    \u001b[0m         See                                                                    \u001b[2m               \u001b[0m\n",
       "\u001b[2;36m                    \u001b[0m         \u001b[4;94mhttps://docs.kedro.org/en/latest/visualisation/kedro-viz_visualisation\u001b[0m \u001b[2m               \u001b[0m\n",
       "\u001b[2;36m                    \u001b[0m         \u001b[4;94m.html#visualise-layers\u001b[0m for more information.                           \u001b[2m               \u001b[0m\n",
       "\u001b[2;36m                    \u001b[0m           \u001b[1;35mwarnings.warn\u001b[0m\u001b[1m(\u001b[0m                                                       \u001b[2m               \u001b[0m\n",
       "\u001b[2;36m                    \u001b[0m                                                                                \u001b[2m               \u001b[0m\n"
      ]
     },
     "metadata": {},
     "output_type": "display_data"
    },
    {
     "data": {
      "text/html": [
       "<pre style=\"white-space:pre;overflow-x:auto;line-height:normal;font-family:Menlo,'DejaVu Sans Mono',consolas,'Courier New',monospace\"><span style=\"color: #7fbfbf; text-decoration-color: #7fbfbf\">[09/19/23 07:06:25] </span><span style=\"color: #000080; text-decoration-color: #000080\">INFO    </span> Kedro project iris-pyspark                                             <a href=\"file:///home/coder/miniconda3/envs/demml/lib/python3.8/site-packages/kedro/ipython/__init__.py\" target=\"_blank\"><span style=\"color: #7f7f7f; text-decoration-color: #7f7f7f\">__init__.py</span></a><span style=\"color: #7f7f7f; text-decoration-color: #7f7f7f\">:</span><a href=\"file:///home/coder/miniconda3/envs/demml/lib/python3.8/site-packages/kedro/ipython/__init__.py#108\" target=\"_blank\"><span style=\"color: #7f7f7f; text-decoration-color: #7f7f7f\">108</span></a>\n",
       "</pre>\n"
      ],
      "text/plain": [
       "\u001b[2;36m[09/19/23 07:06:25]\u001b[0m\u001b[2;36m \u001b[0m\u001b[34mINFO    \u001b[0m Kedro project iris-pyspark                                             \u001b]8;id=357665;file:///home/coder/miniconda3/envs/demml/lib/python3.8/site-packages/kedro/ipython/__init__.py\u001b\\\u001b[2m__init__.py\u001b[0m\u001b]8;;\u001b\\\u001b[2m:\u001b[0m\u001b]8;id=802515;file:///home/coder/miniconda3/envs/demml/lib/python3.8/site-packages/kedro/ipython/__init__.py#108\u001b\\\u001b[2m108\u001b[0m\u001b]8;;\u001b\\\n"
      ]
     },
     "metadata": {},
     "output_type": "display_data"
    },
    {
     "data": {
      "text/html": [
       "<pre style=\"white-space:pre;overflow-x:auto;line-height:normal;font-family:Menlo,'DejaVu Sans Mono',consolas,'Courier New',monospace\"><span style=\"color: #7fbfbf; text-decoration-color: #7fbfbf\">                    </span><span style=\"color: #000080; text-decoration-color: #000080\">INFO    </span> Defined global variable <span style=\"color: #008000; text-decoration-color: #008000\">'context'</span>, <span style=\"color: #008000; text-decoration-color: #008000\">'session'</span>, <span style=\"color: #008000; text-decoration-color: #008000\">'catalog'</span> and            <a href=\"file:///home/coder/miniconda3/envs/demml/lib/python3.8/site-packages/kedro/ipython/__init__.py\" target=\"_blank\"><span style=\"color: #7f7f7f; text-decoration-color: #7f7f7f\">__init__.py</span></a><span style=\"color: #7f7f7f; text-decoration-color: #7f7f7f\">:</span><a href=\"file:///home/coder/miniconda3/envs/demml/lib/python3.8/site-packages/kedro/ipython/__init__.py#109\" target=\"_blank\"><span style=\"color: #7f7f7f; text-decoration-color: #7f7f7f\">109</span></a>\n",
       "<span style=\"color: #7fbfbf; text-decoration-color: #7fbfbf\">                    </span>         <span style=\"color: #008000; text-decoration-color: #008000\">'pipelines'</span>                                                            <span style=\"color: #7f7f7f; text-decoration-color: #7f7f7f\">               </span>\n",
       "</pre>\n"
      ],
      "text/plain": [
       "\u001b[2;36m                   \u001b[0m\u001b[2;36m \u001b[0m\u001b[34mINFO    \u001b[0m Defined global variable \u001b[32m'context'\u001b[0m, \u001b[32m'session'\u001b[0m, \u001b[32m'catalog'\u001b[0m and            \u001b]8;id=359453;file:///home/coder/miniconda3/envs/demml/lib/python3.8/site-packages/kedro/ipython/__init__.py\u001b\\\u001b[2m__init__.py\u001b[0m\u001b]8;;\u001b\\\u001b[2m:\u001b[0m\u001b]8;id=26348;file:///home/coder/miniconda3/envs/demml/lib/python3.8/site-packages/kedro/ipython/__init__.py#109\u001b\\\u001b[2m109\u001b[0m\u001b]8;;\u001b\\\n",
       "\u001b[2;36m                    \u001b[0m         \u001b[32m'pipelines'\u001b[0m                                                            \u001b[2m               \u001b[0m\n"
      ]
     },
     "metadata": {},
     "output_type": "display_data"
    },
    {
     "data": {
      "text/html": [
       "<pre style=\"white-space:pre;overflow-x:auto;line-height:normal;font-family:Menlo,'DejaVu Sans Mono',consolas,'Courier New',monospace\"><span style=\"color: #7fbfbf; text-decoration-color: #7fbfbf\">[09/19/23 07:06:26] </span><span style=\"color: #000080; text-decoration-color: #000080\">INFO    </span> Registered line magic <span style=\"color: #008000; text-decoration-color: #008000\">'run_viz'</span>                                        <a href=\"file:///home/coder/miniconda3/envs/demml/lib/python3.8/site-packages/kedro/ipython/__init__.py\" target=\"_blank\"><span style=\"color: #7f7f7f; text-decoration-color: #7f7f7f\">__init__.py</span></a><span style=\"color: #7f7f7f; text-decoration-color: #7f7f7f\">:</span><a href=\"file:///home/coder/miniconda3/envs/demml/lib/python3.8/site-packages/kedro/ipython/__init__.py#115\" target=\"_blank\"><span style=\"color: #7f7f7f; text-decoration-color: #7f7f7f\">115</span></a>\n",
       "</pre>\n"
      ],
      "text/plain": [
       "\u001b[2;36m[09/19/23 07:06:26]\u001b[0m\u001b[2;36m \u001b[0m\u001b[34mINFO    \u001b[0m Registered line magic \u001b[32m'run_viz'\u001b[0m                                        \u001b]8;id=226216;file:///home/coder/miniconda3/envs/demml/lib/python3.8/site-packages/kedro/ipython/__init__.py\u001b\\\u001b[2m__init__.py\u001b[0m\u001b]8;;\u001b\\\u001b[2m:\u001b[0m\u001b]8;id=546536;file:///home/coder/miniconda3/envs/demml/lib/python3.8/site-packages/kedro/ipython/__init__.py#115\u001b\\\u001b[2m115\u001b[0m\u001b]8;;\u001b\\\n"
      ]
     },
     "metadata": {},
     "output_type": "display_data"
    },
    {
     "data": {
      "text/html": [
       "<pre style=\"white-space:pre;overflow-x:auto;line-height:normal;font-family:Menlo,'DejaVu Sans Mono',consolas,'Courier New',monospace\"><span style=\"color: #7fbfbf; text-decoration-color: #7fbfbf\">                    </span><span style=\"color: #000080; text-decoration-color: #000080\">INFO    </span> Resolved project path as: <span style=\"color: #800080; text-decoration-color: #800080\">/home/coder/eromero/</span><span style=\"color: #ff00ff; text-decoration-color: #ff00ff\">iris-pyspark.</span>            <a href=\"file:///home/coder/miniconda3/envs/demml/lib/python3.8/site-packages/kedro/ipython/__init__.py\" target=\"_blank\"><span style=\"color: #7f7f7f; text-decoration-color: #7f7f7f\">__init__.py</span></a><span style=\"color: #7f7f7f; text-decoration-color: #7f7f7f\">:</span><a href=\"file:///home/coder/miniconda3/envs/demml/lib/python3.8/site-packages/kedro/ipython/__init__.py#139\" target=\"_blank\"><span style=\"color: #7f7f7f; text-decoration-color: #7f7f7f\">139</span></a>\n",
       "<span style=\"color: #7fbfbf; text-decoration-color: #7fbfbf\">                    </span>         To set a different path, run <span style=\"color: #008000; text-decoration-color: #008000\">'%reload_kedro &lt;project_root&gt;'</span>            <span style=\"color: #7f7f7f; text-decoration-color: #7f7f7f\">               </span>\n",
       "</pre>\n"
      ],
      "text/plain": [
       "\u001b[2;36m                   \u001b[0m\u001b[2;36m \u001b[0m\u001b[34mINFO    \u001b[0m Resolved project path as: \u001b[35m/home/coder/eromero/\u001b[0m\u001b[95miris-pyspark.\u001b[0m            \u001b]8;id=382707;file:///home/coder/miniconda3/envs/demml/lib/python3.8/site-packages/kedro/ipython/__init__.py\u001b\\\u001b[2m__init__.py\u001b[0m\u001b]8;;\u001b\\\u001b[2m:\u001b[0m\u001b]8;id=115537;file:///home/coder/miniconda3/envs/demml/lib/python3.8/site-packages/kedro/ipython/__init__.py#139\u001b\\\u001b[2m139\u001b[0m\u001b]8;;\u001b\\\n",
       "\u001b[2;36m                    \u001b[0m         To set a different path, run \u001b[32m'%reload_kedro \u001b[0m\u001b[32m<\u001b[0m\u001b[32mproject_root\u001b[0m\u001b[32m>\u001b[0m\u001b[32m'\u001b[0m            \u001b[2m               \u001b[0m\n"
      ]
     },
     "metadata": {},
     "output_type": "display_data"
    },
    {
     "data": {
      "text/html": [
       "<pre style=\"white-space:pre;overflow-x:auto;line-height:normal;font-family:Menlo,'DejaVu Sans Mono',consolas,'Courier New',monospace\"><span style=\"color: #7fbfbf; text-decoration-color: #7fbfbf\">[09/19/23 07:06:27] </span><span style=\"color: #800000; text-decoration-color: #800000\">WARNING </span> <span style=\"color: #800080; text-decoration-color: #800080\">/home/coder/miniconda3/envs/demml/lib/python3.8/site-packages/kedro/io</span> <a href=\"file:///home/coder/miniconda3/envs/demml/lib/python3.8/warnings.py\" target=\"_blank\"><span style=\"color: #7f7f7f; text-decoration-color: #7f7f7f\">warnings.py</span></a><span style=\"color: #7f7f7f; text-decoration-color: #7f7f7f\">:</span><a href=\"file:///home/coder/miniconda3/envs/demml/lib/python3.8/warnings.py#109\" target=\"_blank\"><span style=\"color: #7f7f7f; text-decoration-color: #7f7f7f\">109</span></a>\n",
       "<span style=\"color: #7fbfbf; text-decoration-color: #7fbfbf\">                    </span>         <span style=\"color: #800080; text-decoration-color: #800080\">/</span><span style=\"color: #ff00ff; text-decoration-color: #ff00ff\">data_catalog.py</span>:<span style=\"color: #008080; text-decoration-color: #008080; font-weight: bold\">300</span>: FutureWarning: Defining the <span style=\"color: #008000; text-decoration-color: #008000\">'layer'</span> attribute at <span style=\"color: #7f7f7f; text-decoration-color: #7f7f7f\">               </span>\n",
       "<span style=\"color: #7fbfbf; text-decoration-color: #7fbfbf\">                    </span>         the top level is deprecated and will be removed in Kedro <span style=\"color: #008080; text-decoration-color: #008080; font-weight: bold\">0.19</span>.<span style=\"color: #008080; text-decoration-color: #008080; font-weight: bold\">0</span>.       <span style=\"color: #7f7f7f; text-decoration-color: #7f7f7f\">               </span>\n",
       "<span style=\"color: #7fbfbf; text-decoration-color: #7fbfbf\">                    </span>         Please move <span style=\"color: #008000; text-decoration-color: #008000\">'layer'</span> inside the <span style=\"color: #008000; text-decoration-color: #008000\">'metadata'</span> -&gt; <span style=\"color: #008000; text-decoration-color: #008000\">'kedro-viz'</span> attributes.   <span style=\"color: #7f7f7f; text-decoration-color: #7f7f7f\">               </span>\n",
       "<span style=\"color: #7fbfbf; text-decoration-color: #7fbfbf\">                    </span>         See                                                                    <span style=\"color: #7f7f7f; text-decoration-color: #7f7f7f\">               </span>\n",
       "<span style=\"color: #7fbfbf; text-decoration-color: #7fbfbf\">                    </span>         <span style=\"color: #0000ff; text-decoration-color: #0000ff; text-decoration: underline\">https://docs.kedro.org/en/latest/visualisation/kedro-viz_visualisation</span> <span style=\"color: #7f7f7f; text-decoration-color: #7f7f7f\">               </span>\n",
       "<span style=\"color: #7fbfbf; text-decoration-color: #7fbfbf\">                    </span>         <span style=\"color: #0000ff; text-decoration-color: #0000ff; text-decoration: underline\">.html#visualise-layers</span> for more information.                           <span style=\"color: #7f7f7f; text-decoration-color: #7f7f7f\">               </span>\n",
       "<span style=\"color: #7fbfbf; text-decoration-color: #7fbfbf\">                    </span>           <span style=\"color: #800080; text-decoration-color: #800080; font-weight: bold\">warnings.warn</span><span style=\"font-weight: bold\">(</span>                                                       <span style=\"color: #7f7f7f; text-decoration-color: #7f7f7f\">               </span>\n",
       "<span style=\"color: #7fbfbf; text-decoration-color: #7fbfbf\">                    </span>                                                                                <span style=\"color: #7f7f7f; text-decoration-color: #7f7f7f\">               </span>\n",
       "</pre>\n"
      ],
      "text/plain": [
       "\u001b[2;36m[09/19/23 07:06:27]\u001b[0m\u001b[2;36m \u001b[0m\u001b[31mWARNING \u001b[0m \u001b[35m/home/coder/miniconda3/envs/demml/lib/python3.8/site-packages/kedro/io\u001b[0m \u001b]8;id=872373;file:///home/coder/miniconda3/envs/demml/lib/python3.8/warnings.py\u001b\\\u001b[2mwarnings.py\u001b[0m\u001b]8;;\u001b\\\u001b[2m:\u001b[0m\u001b]8;id=996436;file:///home/coder/miniconda3/envs/demml/lib/python3.8/warnings.py#109\u001b\\\u001b[2m109\u001b[0m\u001b]8;;\u001b\\\n",
       "\u001b[2;36m                    \u001b[0m         \u001b[35m/\u001b[0m\u001b[95mdata_catalog.py\u001b[0m:\u001b[1;36m300\u001b[0m: FutureWarning: Defining the \u001b[32m'layer'\u001b[0m attribute at \u001b[2m               \u001b[0m\n",
       "\u001b[2;36m                    \u001b[0m         the top level is deprecated and will be removed in Kedro \u001b[1;36m0.19\u001b[0m.\u001b[1;36m0\u001b[0m.       \u001b[2m               \u001b[0m\n",
       "\u001b[2;36m                    \u001b[0m         Please move \u001b[32m'layer'\u001b[0m inside the \u001b[32m'metadata'\u001b[0m -> \u001b[32m'kedro-viz'\u001b[0m attributes.   \u001b[2m               \u001b[0m\n",
       "\u001b[2;36m                    \u001b[0m         See                                                                    \u001b[2m               \u001b[0m\n",
       "\u001b[2;36m                    \u001b[0m         \u001b[4;94mhttps://docs.kedro.org/en/latest/visualisation/kedro-viz_visualisation\u001b[0m \u001b[2m               \u001b[0m\n",
       "\u001b[2;36m                    \u001b[0m         \u001b[4;94m.html#visualise-layers\u001b[0m for more information.                           \u001b[2m               \u001b[0m\n",
       "\u001b[2;36m                    \u001b[0m           \u001b[1;35mwarnings.warn\u001b[0m\u001b[1m(\u001b[0m                                                       \u001b[2m               \u001b[0m\n",
       "\u001b[2;36m                    \u001b[0m                                                                                \u001b[2m               \u001b[0m\n"
      ]
     },
     "metadata": {},
     "output_type": "display_data"
    },
    {
     "data": {
      "text/html": [
       "<pre style=\"white-space:pre;overflow-x:auto;line-height:normal;font-family:Menlo,'DejaVu Sans Mono',consolas,'Courier New',monospace\"><span style=\"color: #7fbfbf; text-decoration-color: #7fbfbf\">                    </span><span style=\"color: #000080; text-decoration-color: #000080\">INFO    </span> Kedro project iris-pyspark                                             <a href=\"file:///home/coder/miniconda3/envs/demml/lib/python3.8/site-packages/kedro/ipython/__init__.py\" target=\"_blank\"><span style=\"color: #7f7f7f; text-decoration-color: #7f7f7f\">__init__.py</span></a><span style=\"color: #7f7f7f; text-decoration-color: #7f7f7f\">:</span><a href=\"file:///home/coder/miniconda3/envs/demml/lib/python3.8/site-packages/kedro/ipython/__init__.py#108\" target=\"_blank\"><span style=\"color: #7f7f7f; text-decoration-color: #7f7f7f\">108</span></a>\n",
       "</pre>\n"
      ],
      "text/plain": [
       "\u001b[2;36m                   \u001b[0m\u001b[2;36m \u001b[0m\u001b[34mINFO    \u001b[0m Kedro project iris-pyspark                                             \u001b]8;id=144042;file:///home/coder/miniconda3/envs/demml/lib/python3.8/site-packages/kedro/ipython/__init__.py\u001b\\\u001b[2m__init__.py\u001b[0m\u001b]8;;\u001b\\\u001b[2m:\u001b[0m\u001b]8;id=535993;file:///home/coder/miniconda3/envs/demml/lib/python3.8/site-packages/kedro/ipython/__init__.py#108\u001b\\\u001b[2m108\u001b[0m\u001b]8;;\u001b\\\n"
      ]
     },
     "metadata": {},
     "output_type": "display_data"
    },
    {
     "data": {
      "text/html": [
       "<pre style=\"white-space:pre;overflow-x:auto;line-height:normal;font-family:Menlo,'DejaVu Sans Mono',consolas,'Courier New',monospace\"><span style=\"color: #7fbfbf; text-decoration-color: #7fbfbf\">                    </span><span style=\"color: #000080; text-decoration-color: #000080\">INFO    </span> Defined global variable <span style=\"color: #008000; text-decoration-color: #008000\">'context'</span>, <span style=\"color: #008000; text-decoration-color: #008000\">'session'</span>, <span style=\"color: #008000; text-decoration-color: #008000\">'catalog'</span> and            <a href=\"file:///home/coder/miniconda3/envs/demml/lib/python3.8/site-packages/kedro/ipython/__init__.py\" target=\"_blank\"><span style=\"color: #7f7f7f; text-decoration-color: #7f7f7f\">__init__.py</span></a><span style=\"color: #7f7f7f; text-decoration-color: #7f7f7f\">:</span><a href=\"file:///home/coder/miniconda3/envs/demml/lib/python3.8/site-packages/kedro/ipython/__init__.py#109\" target=\"_blank\"><span style=\"color: #7f7f7f; text-decoration-color: #7f7f7f\">109</span></a>\n",
       "<span style=\"color: #7fbfbf; text-decoration-color: #7fbfbf\">                    </span>         <span style=\"color: #008000; text-decoration-color: #008000\">'pipelines'</span>                                                            <span style=\"color: #7f7f7f; text-decoration-color: #7f7f7f\">               </span>\n",
       "</pre>\n"
      ],
      "text/plain": [
       "\u001b[2;36m                   \u001b[0m\u001b[2;36m \u001b[0m\u001b[34mINFO    \u001b[0m Defined global variable \u001b[32m'context'\u001b[0m, \u001b[32m'session'\u001b[0m, \u001b[32m'catalog'\u001b[0m and            \u001b]8;id=271734;file:///home/coder/miniconda3/envs/demml/lib/python3.8/site-packages/kedro/ipython/__init__.py\u001b\\\u001b[2m__init__.py\u001b[0m\u001b]8;;\u001b\\\u001b[2m:\u001b[0m\u001b]8;id=802959;file:///home/coder/miniconda3/envs/demml/lib/python3.8/site-packages/kedro/ipython/__init__.py#109\u001b\\\u001b[2m109\u001b[0m\u001b]8;;\u001b\\\n",
       "\u001b[2;36m                    \u001b[0m         \u001b[32m'pipelines'\u001b[0m                                                            \u001b[2m               \u001b[0m\n"
      ]
     },
     "metadata": {},
     "output_type": "display_data"
    },
    {
     "data": {
      "text/html": [
       "<pre style=\"white-space:pre;overflow-x:auto;line-height:normal;font-family:Menlo,'DejaVu Sans Mono',consolas,'Courier New',monospace\"><span style=\"color: #7fbfbf; text-decoration-color: #7fbfbf\">                    </span><span style=\"color: #000080; text-decoration-color: #000080\">INFO    </span> Registered line magic <span style=\"color: #008000; text-decoration-color: #008000\">'run_viz'</span>                                        <a href=\"file:///home/coder/miniconda3/envs/demml/lib/python3.8/site-packages/kedro/ipython/__init__.py\" target=\"_blank\"><span style=\"color: #7f7f7f; text-decoration-color: #7f7f7f\">__init__.py</span></a><span style=\"color: #7f7f7f; text-decoration-color: #7f7f7f\">:</span><a href=\"file:///home/coder/miniconda3/envs/demml/lib/python3.8/site-packages/kedro/ipython/__init__.py#115\" target=\"_blank\"><span style=\"color: #7f7f7f; text-decoration-color: #7f7f7f\">115</span></a>\n",
       "</pre>\n"
      ],
      "text/plain": [
       "\u001b[2;36m                   \u001b[0m\u001b[2;36m \u001b[0m\u001b[34mINFO    \u001b[0m Registered line magic \u001b[32m'run_viz'\u001b[0m                                        \u001b]8;id=325438;file:///home/coder/miniconda3/envs/demml/lib/python3.8/site-packages/kedro/ipython/__init__.py\u001b\\\u001b[2m__init__.py\u001b[0m\u001b]8;;\u001b\\\u001b[2m:\u001b[0m\u001b]8;id=29001;file:///home/coder/miniconda3/envs/demml/lib/python3.8/site-packages/kedro/ipython/__init__.py#115\u001b\\\u001b[2m115\u001b[0m\u001b]8;;\u001b\\\n"
      ]
     },
     "metadata": {},
     "output_type": "display_data"
    },
    {
     "data": {
      "text/html": [
       "<pre style=\"white-space:pre;overflow-x:auto;line-height:normal;font-family:Menlo,'DejaVu Sans Mono',consolas,'Courier New',monospace\"></pre>\n"
      ],
      "text/plain": []
     },
     "metadata": {},
     "output_type": "display_data"
    },
    {
     "data": {
      "text/plain": [
       "\n",
       "\u001b[1m[\u001b[0m\n",
       "    \u001b[32m'data_raw_minio'\u001b[0m,\n",
       "    \u001b[32m'my_iceberg_table'\u001b[0m,\n",
       "    \u001b[32m'parameters'\u001b[0m,\n",
       "    \u001b[32m'params:example_test_data_ratio'\u001b[0m,\n",
       "    \u001b[32m'params:example_num_trees'\u001b[0m\n",
       "\u001b[1m]\u001b[0m"
      ]
     },
     "execution_count": 35,
     "metadata": {},
     "output_type": "execute_result"
    }
   ],
   "source": [
    "%load_ext kedro.extras.extensions.ipython\n",
    "%reload_kedro\n",
    "\n",
    "catalog.list()\n",
    "# catalog.load('data_raw_minio')\n",
    "# catalog.load('my_iceberg_table').show()"
   ]
  },
  {
   "cell_type": "code",
   "execution_count": 36,
   "id": "d8631bef-4e80-4ad6-9535-c1fabb607c62",
   "metadata": {},
   "outputs": [
    {
     "data": {
      "text/html": [
       "<pre style=\"white-space:pre;overflow-x:auto;line-height:normal;font-family:Menlo,'DejaVu Sans Mono',consolas,'Courier New',monospace\"><span style=\"color: #7fbfbf; text-decoration-color: #7fbfbf\">[09/19/23 07:06:31] </span><span style=\"color: #000080; text-decoration-color: #000080\">INFO    </span> Loading data from <span style=\"color: #008000; text-decoration-color: #008000\">'my_iceberg_table'</span> <span style=\"font-weight: bold\">(</span>SparkDataSet<span style=\"font-weight: bold\">)</span><span style=\"color: #808000; text-decoration-color: #808000\">...</span>             <a href=\"file:///home/coder/miniconda3/envs/demml/lib/python3.8/site-packages/kedro/io/data_catalog.py\" target=\"_blank\"><span style=\"color: #7f7f7f; text-decoration-color: #7f7f7f\">data_catalog.py</span></a><span style=\"color: #7f7f7f; text-decoration-color: #7f7f7f\">:</span><a href=\"file:///home/coder/miniconda3/envs/demml/lib/python3.8/site-packages/kedro/io/data_catalog.py#492\" target=\"_blank\"><span style=\"color: #7f7f7f; text-decoration-color: #7f7f7f\">492</span></a>\n",
       "</pre>\n"
      ],
      "text/plain": [
       "\u001b[2;36m[09/19/23 07:06:31]\u001b[0m\u001b[2;36m \u001b[0m\u001b[34mINFO    \u001b[0m Loading data from \u001b[32m'my_iceberg_table'\u001b[0m \u001b[1m(\u001b[0mSparkDataSet\u001b[1m)\u001b[0m\u001b[33m...\u001b[0m             \u001b]8;id=632888;file:///home/coder/miniconda3/envs/demml/lib/python3.8/site-packages/kedro/io/data_catalog.py\u001b\\\u001b[2mdata_catalog.py\u001b[0m\u001b]8;;\u001b\\\u001b[2m:\u001b[0m\u001b]8;id=109776;file:///home/coder/miniconda3/envs/demml/lib/python3.8/site-packages/kedro/io/data_catalog.py#492\u001b\\\u001b[2m492\u001b[0m\u001b]8;;\u001b\\\n"
      ]
     },
     "metadata": {},
     "output_type": "display_data"
    },
    {
     "name": "stdout",
     "output_type": "stream",
     "text": [
      "23/09/19 07:06:31 WARN MetricsConfig: Cannot locate configuration: tried hadoop-metrics2-s3a-file-system.properties,hadoop-metrics2.properties\n"
     ]
    },
    {
     "name": "stderr",
     "output_type": "stream",
     "text": [
      "                                                                                \r"
     ]
    },
    {
     "name": "stdout",
     "output_type": "stream",
     "text": [
      "+------------+-----------+------------+-----------+----------+------+\n",
      "|sepal_length|sepal_width|petal_length|petal_width|   variety|target|\n",
      "+------------+-----------+------------+-----------+----------+------+\n",
      "|         5.6|        2.8|         4.9|        2.0| virginica|     2|\n",
      "|         6.5|        3.0|         5.2|        2.0| virginica|     2|\n",
      "|         6.2|        2.2|         4.5|        1.5|versicolor|     1|\n",
      "|         7.2|        3.0|         5.8|        1.6| virginica|     2|\n",
      "|         5.9|        3.2|         4.8|        1.8|versicolor|     1|\n",
      "|         5.8|        2.7|         3.9|        1.2|versicolor|     1|\n",
      "|         5.5|        4.2|         1.4|        0.2|    setosa|     0|\n",
      "|         6.3|        2.7|         4.9|        1.8| virginica|     2|\n",
      "|         6.6|        2.9|         4.6|        1.3|versicolor|     1|\n",
      "|         5.6|        2.7|         4.2|        1.3|versicolor|     1|\n",
      "|         5.5|        2.4|         3.7|        1.0|versicolor|     1|\n",
      "|         5.4|        3.9|         1.3|        0.4|    setosa|     0|\n",
      "|         5.0|        3.3|         1.4|        0.2|    setosa|     0|\n",
      "|         5.3|        3.7|         1.5|        0.2|    setosa|     0|\n",
      "|         6.8|        3.0|         5.5|        2.1| virginica|     2|\n",
      "|         6.4|        3.2|         4.5|        1.5|versicolor|     1|\n",
      "|         6.0|        2.9|         4.5|        1.5|versicolor|     1|\n",
      "|         6.8|        2.8|         4.8|        1.4|versicolor|     1|\n",
      "|         5.1|        3.8|         1.5|        0.3|    setosa|     0|\n",
      "|         5.2|        3.5|         1.5|        0.2|    setosa|     0|\n",
      "+------------+-----------+------------+-----------+----------+------+\n",
      "only showing top 20 rows\n",
      "\n"
     ]
    },
    {
     "name": "stderr",
     "output_type": "stream",
     "text": [
      "                                                                                \r"
     ]
    }
   ],
   "source": [
    "catalog.load('my_iceberg_table').show()"
   ]
  },
  {
   "cell_type": "code",
   "execution_count": 37,
   "id": "435c070b-0f2b-42bf-bb6c-4350155780e9",
   "metadata": {},
   "outputs": [],
   "source": [
    "spark.stop()"
   ]
  },
  {
   "cell_type": "code",
   "execution_count": null,
   "id": "99ce14e0-f356-4f03-8acb-f78ea1fe0e2c",
   "metadata": {},
   "outputs": [],
   "source": []
  }
 ],
 "metadata": {
  "kernelspec": {
   "display_name": "Python 3 (ipykernel)",
   "language": "python",
   "name": "python3"
  },
  "language_info": {
   "codemirror_mode": {
    "name": "ipython",
    "version": 3
   },
   "file_extension": ".py",
   "mimetype": "text/x-python",
   "name": "python",
   "nbconvert_exporter": "python",
   "pygments_lexer": "ipython3",
   "version": "3.8.13"
  }
 },
 "nbformat": 4,
 "nbformat_minor": 5
}
