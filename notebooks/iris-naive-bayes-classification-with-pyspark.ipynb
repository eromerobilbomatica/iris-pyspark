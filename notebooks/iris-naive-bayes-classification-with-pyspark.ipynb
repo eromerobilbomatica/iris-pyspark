{
 "cells": [
  {
   "cell_type": "code",
   "execution_count": 2,
   "metadata": {
    "tags": []
   },
   "outputs": [
    {
     "name": "stdout",
     "output_type": "stream",
     "text": [
      "openjdk version \"1.8.0_362-362\"\n",
      "OpenJDK Runtime Environment (build 1.8.0_362-362-b09)\n",
      "OpenJDK 64-Bit Server VM (build 25.362-b09, mixed mode)\n"
     ]
    }
   ],
   "source": [
    "!java -version"
   ]
  },
  {
   "cell_type": "markdown",
   "metadata": {
    "id": "H5URi95VNn23"
   },
   "source": [
    "# **IRIS Naive Bayes Classification with Pyspark**"
   ]
  },
  {
   "cell_type": "code",
   "execution_count": 1,
   "metadata": {
    "id": "gwe9FeysidtE",
    "tags": []
   },
   "outputs": [
    {
     "name": "stdout",
     "output_type": "stream",
     "text": [
      "Requirement already satisfied: pyspark==3.3.1 in /opt/conda/lib/python3.8/site-packages (3.3.1)\n",
      "Requirement already satisfied: py4j==0.10.9.5 in /opt/conda/lib/python3.8/site-packages (from pyspark==3.3.1) (0.10.9.5)\n"
     ]
    }
   ],
   "source": [
    "# install\n",
    "# !pip install Pyspark\n",
    "!pip install pyspark==3.3.1"
   ]
  },
  {
   "cell_type": "markdown",
   "metadata": {},
   "source": [
    "# Conexión con el cluster de Spark con pyspark"
   ]
  },
  {
   "cell_type": "code",
   "execution_count": 2,
   "metadata": {},
   "outputs": [
    {
     "data": {
      "text/plain": [
       "'us-east-1'"
      ]
     },
     "execution_count": 2,
     "metadata": {},
     "output_type": "execute_result"
    }
   ],
   "source": [
    "import os\n",
    "os.environ[\"AWS_REGION\"]\n",
    "# os.environ[\"AWS_ACCESS_KEY_ID\"]"
   ]
  },
  {
   "cell_type": "code",
   "execution_count": 3,
   "metadata": {},
   "outputs": [
    {
     "data": {
      "text/html": [
       "\n",
       "            <div>\n",
       "                <p><b>SparkSession - in-memory</b></p>\n",
       "                \n",
       "        <div>\n",
       "            <p><b>SparkContext</b></p>\n",
       "\n",
       "            <p><a href=\"http://172.21.174.88:4040\">Spark UI</a></p>\n",
       "\n",
       "            <dl>\n",
       "              <dt>Version</dt>\n",
       "                <dd><code>v3.3.1</code></dd>\n",
       "              <dt>Master</dt>\n",
       "                <dd><code>spark://spark-master-0.spark-headless.demml.svc.cluster.local:7077</code></dd>\n",
       "              <dt>AppName</dt>\n",
       "                <dd><code>iris_naive_bayes_classification_pyspark_EDU</code></dd>\n",
       "            </dl>\n",
       "        </div>\n",
       "        \n",
       "            </div>\n",
       "        "
      ],
      "text/plain": [
       "<pyspark.sql.session.SparkSession at 0x7f316c832ca0>"
      ]
     },
     "execution_count": 3,
     "metadata": {},
     "output_type": "execute_result"
    }
   ],
   "source": [
    "from pyspark.sql import SparkSession\n",
    "\n",
    "#os.environ['PYSPARK_SUBMIT_ARGS'] = '--packages org.apache.iceberg:iceberg-spark-runtime-3.2_2.12:1.1.0,org.mariadb.jdbc:mariadb-java-client:2.3.0,org.postgresql:postgresql:42.5.4 pyspark-shell'\n",
    "dst_lh_url  = os.environ.get('DST_LH_URL', 'spark://spark-master-0.spark-headless.demml.svc.cluster.local:7077')\n",
    "dst_lh_appn = os.environ.get('DST_LH_APPN', 'iris_naive_bayes_classification_pyspark_EDU')\n",
    "import subprocess\n",
    "my_pod_ip = subprocess.run(['hostname', '-I'], stdout=subprocess.PIPE).stdout.decode('utf-8').strip(' \\n\\t')\n",
    "my_pod_ip\n",
    "\n",
    "spark = SparkSession.builder \\\n",
    "    .master(dst_lh_url) \\\n",
    "    .appName(dst_lh_appn) \\\n",
    "    .config('spark.jars.packages','org.apache.iceberg:iceberg-spark-runtime-3.3_2.12:1.1.0,org.mariadb.jdbc:mariadb-java-client:2.3.0,org.postgresql:postgresql:42.5.4,software.amazon.awssdk:bundle:2.17.257,software.amazon.awssdk:url-connection-client:2.17.257,software.amazon.awssdk:s3:2.17.257,software.amazon.awssdk:iam:2.17.257,org.apache.hadoop:hadoop-aws:3.2.3') \\\n",
    "    .config('spark.sql.extensions','org.apache.iceberg.spark.extensions.IcebergSparkSessionExtensions') \\\n",
    "    .config('spark.sql.catalog.spark_catalog','org.apache.iceberg.spark.SparkSessionCatalog') \\\n",
    "    .config('spark.sql.catalog.spark_catalog.catalog-impl','org.apache.iceberg.jdbc.JdbcCatalog') \\\n",
    "    .config('spark.sql.catalog.spark_catalog.uri','jdbc:postgresql://postgresql:5432/iceberg') \\\n",
    "    .config('spark.driver.host', my_pod_ip) \\\n",
    "    .config('spark.sql.catalog.spark_catalog.jdbc.useSSL','false') \\\n",
    "    .config('spark.sql.catalog.spark_catalog.jdbc.user','iceberg') \\\n",
    "    .config('spark.sql.catalog.spark_catalog.jdbc.password','iceberg') \\\n",
    "    .config('spark.sql.catalog.spark_catalog.warehouse','s3a://warehouse/') \\\n",
    "    .config('spark.sql.catalog.spark_catalog.s3.endpoint','http://minio:9000') \\\n",
    "    .config('spark.sql.catalog.spark_catalog.io-impl', 'org.apache.iceberg.aws.s3.S3FileIO') \\\n",
    "    .config('spark.sql.defaultCatalog','spark_catalog') \\\n",
    "    .config('spark.hadoop.fs.s3a.endpoint','http://minio:9000') \\\n",
    "    .config('spark.hadoop.fs.s3a.access.key','admin') \\\n",
    "    .config('spark.hadoop.fs.s3a.secret.key','t4bl4red0nd4') \\\n",
    "    .config('spark.hadoop.fs.s3a.path.style.access','true') \\\n",
    "    .config('spark.hadoop.fs.s3a.impl','org.apache.hadoop.fs.s3a.S3AFileSystem') \\\n",
    "    .config(\"spark.hadoop.fs.s3a.connection.ssl.enabled\", \"false\") \\\n",
    "    .config(\"spark.hadoop.fs.s3a.aws.credentials.provider\", \"org.apache.hadoop.fs.s3a.SimpleAWSCredentialsProvider\") \\\n",
    "    .getOrCreate()\n",
    "\n",
    "import datetime as dt\n",
    "ini = dt.datetime.now()\n",
    "\n",
    "spark"
   ]
  },
  {
   "cell_type": "code",
   "execution_count": 4,
   "metadata": {
    "id": "xcsHrgdw6glu",
    "tags": []
   },
   "outputs": [
    {
     "name": "stderr",
     "output_type": "stream",
     "text": [
      "/opt/conda/lib/python3.8/site-packages/pyspark/sql/pandas/conversion.py:474: FutureWarning: iteritems is deprecated and will be removed in a future version. Use .items instead.\n",
      "  for column, series in pdf.iteritems():\n",
      "/opt/conda/lib/python3.8/site-packages/pyspark/sql/pandas/conversion.py:486: FutureWarning: iteritems is deprecated and will be removed in a future version. Use .items instead.\n",
      "  for column, series in pdf.iteritems():\n"
     ]
    }
   ],
   "source": [
    "# read sklearn inbuilt data\n",
    "import pandas as pd\n",
    "import numpy as np\n",
    "from sklearn.datasets import load_iris\n",
    "iris = load_iris(as_frame=True)\n",
    "iris = iris.frame\n",
    "iris = spark.createDataFrame(iris)"
   ]
  },
  {
   "cell_type": "code",
   "execution_count": 5,
   "metadata": {
    "id": "BRXO_exO6glv",
    "outputId": "7a90e4a4-f536-44e3-fbc1-020f331caf21",
    "tags": []
   },
   "outputs": [
    {
     "name": "stdout",
     "output_type": "stream",
     "text": [
      "+-----------------+----------------+-----------------+----------------+------+\n",
      "|sepal length (cm)|sepal width (cm)|petal length (cm)|petal width (cm)|target|\n",
      "+-----------------+----------------+-----------------+----------------+------+\n",
      "|              5.1|             3.5|              1.4|             0.2|     0|\n",
      "|              4.9|             3.0|              1.4|             0.2|     0|\n",
      "|              4.7|             3.2|              1.3|             0.2|     0|\n",
      "|              4.6|             3.1|              1.5|             0.2|     0|\n",
      "|              5.0|             3.6|              1.4|             0.2|     0|\n",
      "|              5.4|             3.9|              1.7|             0.4|     0|\n",
      "|              4.6|             3.4|              1.4|             0.3|     0|\n",
      "|              5.0|             3.4|              1.5|             0.2|     0|\n",
      "|              4.4|             2.9|              1.4|             0.2|     0|\n",
      "|              4.9|             3.1|              1.5|             0.1|     0|\n",
      "|              5.4|             3.7|              1.5|             0.2|     0|\n",
      "|              4.8|             3.4|              1.6|             0.2|     0|\n",
      "|              4.8|             3.0|              1.4|             0.1|     0|\n",
      "|              4.3|             3.0|              1.1|             0.1|     0|\n",
      "|              5.8|             4.0|              1.2|             0.2|     0|\n",
      "|              5.7|             4.4|              1.5|             0.4|     0|\n",
      "|              5.4|             3.9|              1.3|             0.4|     0|\n",
      "|              5.1|             3.5|              1.4|             0.3|     0|\n",
      "|              5.7|             3.8|              1.7|             0.3|     0|\n",
      "|              5.1|             3.8|              1.5|             0.3|     0|\n",
      "+-----------------+----------------+-----------------+----------------+------+\n",
      "only showing top 20 rows\n",
      "\n"
     ]
    }
   ],
   "source": [
    "iris.show()"
   ]
  },
  {
   "cell_type": "code",
   "execution_count": 6,
   "metadata": {
    "id": "gFDhxcnB6glv",
    "outputId": "d8a8bac0-6563-40c0-b048-b511b01159a8",
    "tags": []
   },
   "outputs": [
    {
     "name": "stdout",
     "output_type": "stream",
     "text": [
      "root\n",
      " |-- sepal length (cm): double (nullable = true)\n",
      " |-- sepal width (cm): double (nullable = true)\n",
      " |-- petal length (cm): double (nullable = true)\n",
      " |-- petal width (cm): double (nullable = true)\n",
      " |-- target: long (nullable = true)\n",
      "\n"
     ]
    }
   ],
   "source": [
    "iris.printSchema()"
   ]
  },
  {
   "cell_type": "code",
   "execution_count": 7,
   "metadata": {
    "id": "9TorzEMY6glw",
    "outputId": "0745875e-6c4b-4522-e015-db2e400d6fc6",
    "tags": []
   },
   "outputs": [
    {
     "data": {
      "text/plain": [
       "['sepal length (cm)',\n",
       " 'sepal width (cm)',\n",
       " 'petal length (cm)',\n",
       " 'petal width (cm)',\n",
       " 'target']"
      ]
     },
     "execution_count": 7,
     "metadata": {},
     "output_type": "execute_result"
    }
   ],
   "source": [
    "iris.columns"
   ]
  },
  {
   "cell_type": "code",
   "execution_count": 8,
   "metadata": {
    "id": "wZjuNOGL6glw",
    "tags": []
   },
   "outputs": [],
   "source": [
    "from pyspark.ml.feature import VectorAssembler "
   ]
  },
  {
   "cell_type": "code",
   "execution_count": 9,
   "metadata": {
    "id": "ooSm4UaF6glw",
    "tags": []
   },
   "outputs": [],
   "source": [
    "featureassembler= VectorAssembler(inputCols=['sepal length (cm)',\n",
    " 'sepal width (cm)',\n",
    " 'petal length (cm)',\n",
    " 'petal width (cm)'], outputCol='Features')"
   ]
  },
  {
   "cell_type": "code",
   "execution_count": 10,
   "metadata": {
    "id": "jJt4WucO6glw",
    "tags": []
   },
   "outputs": [],
   "source": [
    "output = featureassembler.transform(iris)"
   ]
  },
  {
   "cell_type": "code",
   "execution_count": 11,
   "metadata": {
    "id": "jY_eaYl_6glw",
    "outputId": "9a7dadf0-792d-4341-f327-67521b41618d",
    "tags": []
   },
   "outputs": [
    {
     "name": "stdout",
     "output_type": "stream",
     "text": [
      "+-----------------+----------------+-----------------+----------------+------+-----------------+\n",
      "|sepal length (cm)|sepal width (cm)|petal length (cm)|petal width (cm)|target|         Features|\n",
      "+-----------------+----------------+-----------------+----------------+------+-----------------+\n",
      "|              5.1|             3.5|              1.4|             0.2|     0|[5.1,3.5,1.4,0.2]|\n",
      "|              4.9|             3.0|              1.4|             0.2|     0|[4.9,3.0,1.4,0.2]|\n",
      "|              4.7|             3.2|              1.3|             0.2|     0|[4.7,3.2,1.3,0.2]|\n",
      "|              4.6|             3.1|              1.5|             0.2|     0|[4.6,3.1,1.5,0.2]|\n",
      "|              5.0|             3.6|              1.4|             0.2|     0|[5.0,3.6,1.4,0.2]|\n",
      "|              5.4|             3.9|              1.7|             0.4|     0|[5.4,3.9,1.7,0.4]|\n",
      "|              4.6|             3.4|              1.4|             0.3|     0|[4.6,3.4,1.4,0.3]|\n",
      "|              5.0|             3.4|              1.5|             0.2|     0|[5.0,3.4,1.5,0.2]|\n",
      "|              4.4|             2.9|              1.4|             0.2|     0|[4.4,2.9,1.4,0.2]|\n",
      "|              4.9|             3.1|              1.5|             0.1|     0|[4.9,3.1,1.5,0.1]|\n",
      "|              5.4|             3.7|              1.5|             0.2|     0|[5.4,3.7,1.5,0.2]|\n",
      "|              4.8|             3.4|              1.6|             0.2|     0|[4.8,3.4,1.6,0.2]|\n",
      "|              4.8|             3.0|              1.4|             0.1|     0|[4.8,3.0,1.4,0.1]|\n",
      "|              4.3|             3.0|              1.1|             0.1|     0|[4.3,3.0,1.1,0.1]|\n",
      "|              5.8|             4.0|              1.2|             0.2|     0|[5.8,4.0,1.2,0.2]|\n",
      "|              5.7|             4.4|              1.5|             0.4|     0|[5.7,4.4,1.5,0.4]|\n",
      "|              5.4|             3.9|              1.3|             0.4|     0|[5.4,3.9,1.3,0.4]|\n",
      "|              5.1|             3.5|              1.4|             0.3|     0|[5.1,3.5,1.4,0.3]|\n",
      "|              5.7|             3.8|              1.7|             0.3|     0|[5.7,3.8,1.7,0.3]|\n",
      "|              5.1|             3.8|              1.5|             0.3|     0|[5.1,3.8,1.5,0.3]|\n",
      "+-----------------+----------------+-----------------+----------------+------+-----------------+\n",
      "only showing top 20 rows\n",
      "\n"
     ]
    }
   ],
   "source": [
    "output.show()"
   ]
  },
  {
   "cell_type": "code",
   "execution_count": 12,
   "metadata": {
    "id": "08O1r4kX6glx",
    "tags": []
   },
   "outputs": [],
   "source": [
    "modeldata = output.select('Features','target')"
   ]
  },
  {
   "cell_type": "code",
   "execution_count": 13,
   "metadata": {
    "id": "DyyYW9Ml6glx",
    "outputId": "134fb7db-9857-4660-fb99-4f03e939ff1f",
    "tags": []
   },
   "outputs": [
    {
     "name": "stdout",
     "output_type": "stream",
     "text": [
      "+-----------------+------+\n",
      "|         Features|target|\n",
      "+-----------------+------+\n",
      "|[5.1,3.5,1.4,0.2]|     0|\n",
      "|[4.9,3.0,1.4,0.2]|     0|\n",
      "|[4.7,3.2,1.3,0.2]|     0|\n",
      "|[4.6,3.1,1.5,0.2]|     0|\n",
      "|[5.0,3.6,1.4,0.2]|     0|\n",
      "|[5.4,3.9,1.7,0.4]|     0|\n",
      "|[4.6,3.4,1.4,0.3]|     0|\n",
      "|[5.0,3.4,1.5,0.2]|     0|\n",
      "|[4.4,2.9,1.4,0.2]|     0|\n",
      "|[4.9,3.1,1.5,0.1]|     0|\n",
      "|[5.4,3.7,1.5,0.2]|     0|\n",
      "|[4.8,3.4,1.6,0.2]|     0|\n",
      "|[4.8,3.0,1.4,0.1]|     0|\n",
      "|[4.3,3.0,1.1,0.1]|     0|\n",
      "|[5.8,4.0,1.2,0.2]|     0|\n",
      "|[5.7,4.4,1.5,0.4]|     0|\n",
      "|[5.4,3.9,1.3,0.4]|     0|\n",
      "|[5.1,3.5,1.4,0.3]|     0|\n",
      "|[5.7,3.8,1.7,0.3]|     0|\n",
      "|[5.1,3.8,1.5,0.3]|     0|\n",
      "+-----------------+------+\n",
      "only showing top 20 rows\n",
      "\n"
     ]
    }
   ],
   "source": [
    "modeldata.show()"
   ]
  },
  {
   "cell_type": "code",
   "execution_count": 14,
   "metadata": {
    "id": "-KbpnDWC6glx",
    "tags": []
   },
   "outputs": [],
   "source": [
    "# split data\n",
    "train_data, test_data = modeldata.randomSplit([0.8,0.2])"
   ]
  },
  {
   "cell_type": "code",
   "execution_count": 15,
   "metadata": {
    "id": "tZcfp4R26glx",
    "outputId": "f0292f68-2a9b-4202-df46-c86002ce9fd6",
    "tags": []
   },
   "outputs": [
    {
     "name": "stdout",
     "output_type": "stream",
     "text": [
      "+-----------------+------+\n",
      "|         Features|target|\n",
      "+-----------------+------+\n",
      "|[4.3,3.0,1.1,0.1]|     0|\n",
      "|[4.4,2.9,1.4,0.2]|     0|\n",
      "|[4.4,3.0,1.3,0.2]|     0|\n",
      "|[4.4,3.2,1.3,0.2]|     0|\n",
      "|[4.5,2.3,1.3,0.3]|     0|\n",
      "|[4.6,3.1,1.5,0.2]|     0|\n",
      "|[4.6,3.4,1.4,0.3]|     0|\n",
      "|[4.6,3.6,1.0,0.2]|     0|\n",
      "|[4.7,3.2,1.3,0.2]|     0|\n",
      "|[4.7,3.2,1.6,0.2]|     0|\n",
      "|[4.8,3.0,1.4,0.1]|     0|\n",
      "|[4.8,3.0,1.4,0.3]|     0|\n",
      "|[4.8,3.1,1.6,0.2]|     0|\n",
      "|[4.8,3.4,1.9,0.2]|     0|\n",
      "|[4.9,3.0,1.4,0.2]|     0|\n",
      "|[4.9,3.6,1.4,0.1]|     0|\n",
      "|[5.0,3.2,1.2,0.2]|     0|\n",
      "|[5.0,3.4,1.5,0.2]|     0|\n",
      "|[5.0,3.4,1.6,0.4]|     0|\n",
      "|[5.0,3.5,1.6,0.6]|     0|\n",
      "+-----------------+------+\n",
      "only showing top 20 rows\n",
      "\n"
     ]
    }
   ],
   "source": [
    "train_data.show()"
   ]
  },
  {
   "cell_type": "code",
   "execution_count": 16,
   "metadata": {
    "id": "u-RUxJVW6glx",
    "tags": []
   },
   "outputs": [],
   "source": [
    "# naive bayes model\n",
    "from pyspark.ml.classification import NaiveBayes"
   ]
  },
  {
   "cell_type": "code",
   "execution_count": 17,
   "metadata": {
    "id": "aqAG3-Mc6glx",
    "tags": []
   },
   "outputs": [],
   "source": [
    "nb = NaiveBayes(featuresCol='Features', labelCol='target')"
   ]
  },
  {
   "cell_type": "code",
   "execution_count": 18,
   "metadata": {
    "id": "b5MoY_w46gly",
    "tags": []
   },
   "outputs": [],
   "source": [
    "nb = nb.fit(train_data)"
   ]
  },
  {
   "cell_type": "code",
   "execution_count": 19,
   "metadata": {
    "id": "yyk6Ost36gly",
    "tags": []
   },
   "outputs": [],
   "source": [
    "# prediction\n",
    "y_pred = nb.transform(test_data)"
   ]
  },
  {
   "cell_type": "code",
   "execution_count": 20,
   "metadata": {
    "id": "TLNLJhI16gly",
    "outputId": "f7032172-3978-4e3a-8a5d-121e1e5aeab7",
    "tags": []
   },
   "outputs": [
    {
     "name": "stdout",
     "output_type": "stream",
     "text": [
      "+-----------------+------+--------------------+--------------------+----------+\n",
      "|         Features|target|       rawPrediction|         probability|prediction|\n",
      "+-----------------+------+--------------------+--------------------+----------+\n",
      "|[4.6,3.2,1.4,0.2]|     0|[-11.400041543354...|[0.66076488616641...|       0.0|\n",
      "|[4.8,3.4,1.6,0.2]|     0|[-12.147731909479...|[0.66227351459691...|       0.0|\n",
      "|[4.9,2.4,3.3,1.0]|     1|[-17.315904889134...|[0.09245640211949...|       1.0|\n",
      "|[4.9,3.1,1.5,0.1]|     0|[-11.338548782834...|[0.67354232107440...|       0.0|\n",
      "|[4.9,3.1,1.5,0.2]|     0|[-11.698604295395...|[0.64370607542571...|       0.0|\n",
      "|[5.0,2.0,3.5,1.0]|     1|[-17.341020406410...|[0.06534669275611...|       1.0|\n",
      "|[5.0,3.0,1.6,0.2]|     0|[-11.855244888641...|[0.61674588291459...|       0.0|\n",
      "|[5.0,3.3,1.4,0.2]|     0|[-11.792488155854...|[0.69148449028946...|       0.0|\n",
      "|[5.0,3.5,1.3,0.3]|     0|[-12.175466449475...|[0.70467887273912...|       0.0|\n",
      "|[5.1,3.4,1.5,0.2]|     0|[-12.166333338916...|[0.69218388990964...|       0.0|\n",
      "|[5.1,3.8,1.5,0.3]|     0|[-12.960798031111...|[0.71411025693123...|       0.0|\n",
      "|[5.1,3.8,1.6,0.2]|     0|[-12.795024327306...|[0.72543436730372...|       0.0|\n",
      "|[5.1,3.8,1.9,0.4]|     0|[-14.097980778696...|[0.61715863187171...|       0.0|\n",
      "|[5.2,2.7,3.9,1.4]|     1|[-20.460507914833...|[0.04546974792683...|       2.0|\n",
      "|[5.2,3.5,1.5,0.2]|     0|[-12.345896713222...|[0.70886789075353...|       0.0|\n",
      "|[5.4,3.4,1.7,0.2]|     0|[-12.767780194622...|[0.67220878272158...|       0.0|\n",
      "|[5.7,3.8,1.7,0.3]|     0|[-13.775128125010...|[0.70755087086031...|       0.0|\n",
      "|[5.7,4.4,1.5,0.4]|     0|[-14.398233789509...|[0.77886213111172...|       0.0|\n",
      "|[5.8,2.7,4.1,1.0]|     1|[-19.834615958488...|[0.07371491959047...|       1.0|\n",
      "|[6.6,2.9,4.6,1.3]|     1|[-22.671084764951...|[0.04594926389111...|       1.0|\n",
      "+-----------------+------+--------------------+--------------------+----------+\n",
      "only showing top 20 rows\n",
      "\n"
     ]
    }
   ],
   "source": [
    "y_pred.show()"
   ]
  },
  {
   "cell_type": "code",
   "execution_count": 21,
   "metadata": {
    "id": "aP0v4QDgrP8Q",
    "outputId": "abe8c5b4-e70a-43c3-8f47-e388e3606c8a",
    "tags": []
   },
   "outputs": [
    {
     "name": "stdout",
     "output_type": "stream",
     "text": [
      "+------+----------+-----+\n",
      "|target|prediction|count|\n",
      "+------+----------+-----+\n",
      "|     1|       2.0|    2|\n",
      "|     0|       0.0|   15|\n",
      "|     1|       1.0|    7|\n",
      "|     2|       2.0|    7|\n",
      "+------+----------+-----+\n",
      "\n"
     ]
    }
   ],
   "source": [
    "# confusion matrix\n",
    "y_pred.groupBy('target', 'prediction').count().show()"
   ]
  },
  {
   "cell_type": "code",
   "execution_count": 22,
   "metadata": {
    "id": "57T0b7gOw_t9",
    "outputId": "6cd071ea-98b2-463e-d089-9cca765edd67",
    "tags": []
   },
   "outputs": [
    {
     "name": "stdout",
     "output_type": "stream",
     "text": [
      "[[15  0  0]\n",
      " [ 0  7  2]\n",
      " [ 0  0  7]]\n"
     ]
    }
   ],
   "source": [
    "from sklearn.metrics import confusion_matrix\n",
    "pred = y_pred.select(\"prediction\").collect()\n",
    "orig = y_pred.select(\"target\").collect()\n",
    "print(confusion_matrix(orig, pred))"
   ]
  },
  {
   "cell_type": "code",
   "execution_count": 23,
   "metadata": {
    "id": "1z9f4RbN_2NU",
    "tags": []
   },
   "outputs": [],
   "source": [
    "# evaluation\n",
    "from pyspark.ml.evaluation import MulticlassClassificationEvaluator"
   ]
  },
  {
   "cell_type": "code",
   "execution_count": 24,
   "metadata": {
    "id": "9keKjBLvxq_c",
    "tags": []
   },
   "outputs": [],
   "source": [
    "evaluator = MulticlassClassificationEvaluator(\n",
    "    labelCol='target', predictionCol='prediction'\n",
    ")"
   ]
  },
  {
   "cell_type": "code",
   "execution_count": 29,
   "metadata": {},
   "outputs": [
    {
     "data": {
      "text/plain": [
       "Param(parent='MulticlassClassificationEvaluator_4d276912f91b', name='metricName', doc='metric name in evaluation (f1|accuracy|weightedPrecision|weightedRecall|weightedTruePositiveRate| weightedFalsePositiveRate|weightedFMeasure|truePositiveRateByLabel| falsePositiveRateByLabel|precisionByLabel|recallByLabel|fMeasureByLabel| logLoss|hammingLoss)')"
      ]
     },
     "execution_count": 29,
     "metadata": {},
     "output_type": "execute_result"
    }
   ],
   "source": [
    "evaluator.metricName"
   ]
  },
  {
   "cell_type": "code",
   "execution_count": 25,
   "metadata": {
    "id": "HNbJEY7A_3NG",
    "outputId": "5e49e02e-cfbc-4e50-f066-aa1659c60261",
    "tags": []
   },
   "outputs": [
    {
     "name": "stdout",
     "output_type": "stream",
     "text": [
      "Accuracy: 0.935483870967742\n",
      "Precision: 0.949820788530466\n",
      "Recall: 0.935483870967742\n",
      "F1 Score: 0.935483870967742\n"
     ]
    }
   ],
   "source": [
    "accuracy = evaluator.evaluate(y_pred)\n",
    "precision = evaluator.evaluate(y_pred, {evaluator.metricName: 'weightedPrecision'})\n",
    "recall = evaluator.evaluate(y_pred, {evaluator.metricName: 'weightedRecall'})\n",
    "f1_score = evaluator.evaluate(y_pred, {evaluator.metricName: 'f1'})\n",
    "\n",
    "print(f'Accuracy: {accuracy}')\n",
    "print(f'Precision: {precision}')\n",
    "print(f'Recall: {recall}')\n",
    "print(f'F1 Score: {f1_score}')"
   ]
  },
  {
   "cell_type": "code",
   "execution_count": 26,
   "metadata": {
    "id": "T5fn3z4r6gly",
    "tags": []
   },
   "outputs": [],
   "source": [
    "# close connection to spark\n",
    "spark.stop()"
   ]
  },
  {
   "cell_type": "code",
   "execution_count": 27,
   "metadata": {},
   "outputs": [
    {
     "name": "stdout",
     "output_type": "stream",
     "text": [
      "0:00:22.009637\n"
     ]
    }
   ],
   "source": [
    "fin = dt.datetime.now()\n",
    "\n",
    "print(str(fin - ini))"
   ]
  }
 ],
 "metadata": {
  "kernelspec": {
   "display_name": "Python 3 (ipykernel)",
   "language": "python",
   "name": "python3"
  },
  "language_info": {
   "codemirror_mode": {
    "name": "ipython",
    "version": 3
   },
   "file_extension": ".py",
   "mimetype": "text/x-python",
   "name": "python",
   "nbconvert_exporter": "python",
   "pygments_lexer": "ipython3",
   "version": "3.8.13"
  }
 },
 "nbformat": 4,
 "nbformat_minor": 4
}
