{
 "cells": [
  {
   "cell_type": "code",
   "execution_count": 1,
   "metadata": {
    "tags": []
   },
   "outputs": [
    {
     "name": "stdout",
     "output_type": "stream",
     "text": [
      "openjdk version \"1.8.0_362-362\"\n",
      "OpenJDK Runtime Environment (build 1.8.0_362-362-b09)\n",
      "OpenJDK 64-Bit Server VM (build 25.362-b09, mixed mode)\n"
     ]
    }
   ],
   "source": [
    "!java -version"
   ]
  },
  {
   "cell_type": "markdown",
   "metadata": {
    "id": "H5URi95VNn23"
   },
   "source": [
    "# **IRIS Naive Bayes Classification with Pyspark**"
   ]
  },
  {
   "cell_type": "code",
   "execution_count": 2,
   "metadata": {
    "id": "gwe9FeysidtE",
    "tags": []
   },
   "outputs": [
    {
     "name": "stdout",
     "output_type": "stream",
     "text": [
      "Requirement already satisfied: pyspark==3.3.1 in /home/coder/miniconda3/envs/demml/lib/python3.8/site-packages (3.3.1)\n",
      "Requirement already satisfied: py4j==0.10.9.5 in /home/coder/miniconda3/envs/demml/lib/python3.8/site-packages (from pyspark==3.3.1) (0.10.9.5)\n"
     ]
    }
   ],
   "source": [
    "# install\n",
    "# !pip install Pyspark\n",
    "!pip install pyspark==3.3.1"
   ]
  },
  {
   "cell_type": "markdown",
   "metadata": {},
   "source": [
    "# Conexión con el cluster de Spark con pyspark"
   ]
  },
  {
   "cell_type": "code",
   "execution_count": 3,
   "metadata": {
    "tags": []
   },
   "outputs": [
    {
     "name": "stdout",
     "output_type": "stream",
     "text": [
      "AWS_REGION: us-east-1\n",
      "AWS_SECRET_ACCESS_KEY: t4bl4red0nd4\n",
      "AWS_ACCESS_KEY_ID: admin\n"
     ]
    }
   ],
   "source": [
    "import os\n",
    "\n",
    "# Obtener todas las variables de entorno\n",
    "env_variables = os.environ\n",
    "\n",
    "# Imprimir todas las variables de entorno de forma legible\n",
    "for key, value in env_variables.items():\n",
    "    if \"AWS\" in key:\n",
    "        print(f\"{key}: {value}\")\n"
   ]
  },
  {
   "cell_type": "code",
   "execution_count": 4,
   "metadata": {
    "tags": []
   },
   "outputs": [
    {
     "name": "stdout",
     "output_type": "stream",
     "text": [
      ":: loading settings :: url = jar:file:/home/coder/miniconda3/envs/demml/lib/python3.8/site-packages/pyspark/jars/ivy-2.5.0.jar!/org/apache/ivy/core/settings/ivysettings.xml\n"
     ]
    },
    {
     "name": "stderr",
     "output_type": "stream",
     "text": [
      "Ivy Default Cache set to: /home/coder/.ivy2/cache\n",
      "The jars for the packages stored in: /home/coder/.ivy2/jars\n",
      "org.apache.iceberg#iceberg-spark-runtime-3.3_2.12 added as a dependency\n",
      "org.mariadb.jdbc#mariadb-java-client added as a dependency\n",
      "org.postgresql#postgresql added as a dependency\n",
      "software.amazon.awssdk#bundle added as a dependency\n",
      "software.amazon.awssdk#url-connection-client added as a dependency\n",
      "software.amazon.awssdk#s3 added as a dependency\n",
      "software.amazon.awssdk#iam added as a dependency\n",
      "org.apache.hadoop#hadoop-aws added as a dependency\n",
      ":: resolving dependencies :: org.apache.spark#spark-submit-parent-b47cad86-98c7-4b8d-8af6-c1bfba8d7bb5;1.0\n",
      "\tconfs: [default]\n",
      "\tfound org.apache.iceberg#iceberg-spark-runtime-3.3_2.12;1.1.0 in central\n",
      "\tfound org.mariadb.jdbc#mariadb-java-client;2.3.0 in central\n",
      "\tfound org.postgresql#postgresql;42.5.4 in central\n",
      "\tfound org.checkerframework#checker-qual;3.5.0 in central\n",
      "\tfound software.amazon.awssdk#bundle;2.17.257 in central\n",
      "\tfound software.amazon.eventstream#eventstream;1.0.1 in central\n",
      "\tfound software.amazon.awssdk#url-connection-client;2.17.257 in central\n",
      "\tfound software.amazon.awssdk#utils;2.17.257 in central\n",
      "\tfound org.reactivestreams#reactive-streams;1.0.3 in central\n",
      "\tfound software.amazon.awssdk#annotations;2.17.257 in central\n",
      "\tfound org.slf4j#slf4j-api;1.7.30 in central\n",
      "\tfound software.amazon.awssdk#http-client-spi;2.17.257 in central\n",
      "\tfound software.amazon.awssdk#metrics-spi;2.17.257 in central\n",
      "\tfound software.amazon.awssdk#s3;2.17.257 in central\n",
      "\tfound software.amazon.awssdk#aws-xml-protocol;2.17.257 in central\n",
      "\tfound software.amazon.awssdk#aws-query-protocol;2.17.257 in central\n",
      "\tfound software.amazon.awssdk#protocol-core;2.17.257 in central\n",
      "\tfound software.amazon.awssdk#sdk-core;2.17.257 in central\n",
      "\tfound software.amazon.awssdk#profiles;2.17.257 in central\n",
      "\tfound software.amazon.awssdk#aws-core;2.17.257 in central\n",
      "\tfound software.amazon.awssdk#regions;2.17.257 in central\n",
      "\tfound software.amazon.awssdk#json-utils;2.17.257 in central\n",
      "\tfound software.amazon.awssdk#third-party-jackson-core;2.17.257 in central\n",
      "\tfound software.amazon.awssdk#auth;2.17.257 in central\n",
      "\tfound software.amazon.awssdk#arns;2.17.257 in central\n",
      "\tfound software.amazon.awssdk#apache-client;2.17.257 in central\n",
      "\tfound org.apache.httpcomponents#httpclient;4.5.13 in central\n",
      "\tfound org.apache.httpcomponents#httpcore;4.4.13 in central\n",
      "\tfound commons-logging#commons-logging;1.2 in central\n",
      "\tfound commons-codec#commons-codec;1.11 in central\n",
      "\tfound software.amazon.awssdk#netty-nio-client;2.17.257 in central\n",
      "\tfound io.netty#netty-codec-http;4.1.77.Final in central\n",
      "\tfound io.netty#netty-common;4.1.77.Final in central\n",
      "\tfound io.netty#netty-buffer;4.1.77.Final in central\n",
      "\tfound io.netty#netty-transport;4.1.77.Final in central\n",
      "\tfound io.netty#netty-resolver;4.1.77.Final in central\n",
      "\tfound io.netty#netty-codec;4.1.77.Final in central\n",
      "\tfound io.netty#netty-handler;4.1.77.Final in central\n",
      "\tfound io.netty#netty-codec-http2;4.1.77.Final in central\n",
      "\tfound io.netty#netty-transport-classes-epoll;4.1.77.Final in central\n",
      "\tfound io.netty#netty-transport-native-unix-common;4.1.77.Final in central\n",
      "\tfound software.amazon.awssdk#iam;2.17.257 in central\n",
      "\tfound org.apache.hadoop#hadoop-aws;3.2.3 in central\n",
      "\tfound com.amazonaws#aws-java-sdk-bundle;1.11.901 in central\n",
      ":: resolution report :: resolve 1995ms :: artifacts dl 31ms\n",
      "\t:: modules in use:\n",
      "\tcom.amazonaws#aws-java-sdk-bundle;1.11.901 from central in [default]\n",
      "\tcommons-codec#commons-codec;1.11 from central in [default]\n",
      "\tcommons-logging#commons-logging;1.2 from central in [default]\n",
      "\tio.netty#netty-buffer;4.1.77.Final from central in [default]\n",
      "\tio.netty#netty-codec;4.1.77.Final from central in [default]\n",
      "\tio.netty#netty-codec-http;4.1.77.Final from central in [default]\n",
      "\tio.netty#netty-codec-http2;4.1.77.Final from central in [default]\n",
      "\tio.netty#netty-common;4.1.77.Final from central in [default]\n",
      "\tio.netty#netty-handler;4.1.77.Final from central in [default]\n",
      "\tio.netty#netty-resolver;4.1.77.Final from central in [default]\n",
      "\tio.netty#netty-transport;4.1.77.Final from central in [default]\n",
      "\tio.netty#netty-transport-classes-epoll;4.1.77.Final from central in [default]\n",
      "\tio.netty#netty-transport-native-unix-common;4.1.77.Final from central in [default]\n",
      "\torg.apache.hadoop#hadoop-aws;3.2.3 from central in [default]\n",
      "\torg.apache.httpcomponents#httpclient;4.5.13 from central in [default]\n",
      "\torg.apache.httpcomponents#httpcore;4.4.13 from central in [default]\n",
      "\torg.apache.iceberg#iceberg-spark-runtime-3.3_2.12;1.1.0 from central in [default]\n",
      "\torg.checkerframework#checker-qual;3.5.0 from central in [default]\n",
      "\torg.mariadb.jdbc#mariadb-java-client;2.3.0 from central in [default]\n",
      "\torg.postgresql#postgresql;42.5.4 from central in [default]\n",
      "\torg.reactivestreams#reactive-streams;1.0.3 from central in [default]\n",
      "\torg.slf4j#slf4j-api;1.7.30 from central in [default]\n",
      "\tsoftware.amazon.awssdk#annotations;2.17.257 from central in [default]\n",
      "\tsoftware.amazon.awssdk#apache-client;2.17.257 from central in [default]\n",
      "\tsoftware.amazon.awssdk#arns;2.17.257 from central in [default]\n",
      "\tsoftware.amazon.awssdk#auth;2.17.257 from central in [default]\n",
      "\tsoftware.amazon.awssdk#aws-core;2.17.257 from central in [default]\n",
      "\tsoftware.amazon.awssdk#aws-query-protocol;2.17.257 from central in [default]\n",
      "\tsoftware.amazon.awssdk#aws-xml-protocol;2.17.257 from central in [default]\n",
      "\tsoftware.amazon.awssdk#bundle;2.17.257 from central in [default]\n",
      "\tsoftware.amazon.awssdk#http-client-spi;2.17.257 from central in [default]\n",
      "\tsoftware.amazon.awssdk#iam;2.17.257 from central in [default]\n",
      "\tsoftware.amazon.awssdk#json-utils;2.17.257 from central in [default]\n",
      "\tsoftware.amazon.awssdk#metrics-spi;2.17.257 from central in [default]\n",
      "\tsoftware.amazon.awssdk#netty-nio-client;2.17.257 from central in [default]\n",
      "\tsoftware.amazon.awssdk#profiles;2.17.257 from central in [default]\n",
      "\tsoftware.amazon.awssdk#protocol-core;2.17.257 from central in [default]\n",
      "\tsoftware.amazon.awssdk#regions;2.17.257 from central in [default]\n",
      "\tsoftware.amazon.awssdk#s3;2.17.257 from central in [default]\n",
      "\tsoftware.amazon.awssdk#sdk-core;2.17.257 from central in [default]\n",
      "\tsoftware.amazon.awssdk#third-party-jackson-core;2.17.257 from central in [default]\n",
      "\tsoftware.amazon.awssdk#url-connection-client;2.17.257 from central in [default]\n",
      "\tsoftware.amazon.awssdk#utils;2.17.257 from central in [default]\n",
      "\tsoftware.amazon.eventstream#eventstream;1.0.1 from central in [default]\n",
      "\t---------------------------------------------------------------------\n",
      "\t|                  |            modules            ||   artifacts   |\n",
      "\t|       conf       | number| search|dwnlded|evicted|| number|dwnlded|\n",
      "\t---------------------------------------------------------------------\n",
      "\t|      default     |   44  |   0   |   0   |   0   ||   44  |   0   |\n",
      "\t---------------------------------------------------------------------\n",
      ":: retrieving :: org.apache.spark#spark-submit-parent-b47cad86-98c7-4b8d-8af6-c1bfba8d7bb5\n",
      "\tconfs: [default]\n",
      "\t0 artifacts copied, 44 already retrieved (0kB/63ms)\n"
     ]
    },
    {
     "name": "stdout",
     "output_type": "stream",
     "text": [
      "23/09/19 07:24:52 WARN NativeCodeLoader: Unable to load native-hadoop library for your platform... using builtin-java classes where applicable\n"
     ]
    },
    {
     "name": "stderr",
     "output_type": "stream",
     "text": [
      "Setting default log level to \"WARN\".\n",
      "To adjust logging level use sc.setLogLevel(newLevel). For SparkR, use setLogLevel(newLevel).\n"
     ]
    },
    {
     "data": {
      "text/html": [
       "\n",
       "            <div>\n",
       "                <p><b>SparkSession - in-memory</b></p>\n",
       "                \n",
       "        <div>\n",
       "            <p><b>SparkContext</b></p>\n",
       "\n",
       "            <p><a href=\"http://172.21.23.248:4040\">Spark UI</a></p>\n",
       "\n",
       "            <dl>\n",
       "              <dt>Version</dt>\n",
       "                <dd><code>v3.3.1</code></dd>\n",
       "              <dt>Master</dt>\n",
       "                <dd><code>spark://spark-master-0.spark-headless.demml.svc.cluster.local:7077</code></dd>\n",
       "              <dt>AppName</dt>\n",
       "                <dd><code>iris_naive_bayes_classification_pyspark_EDU</code></dd>\n",
       "            </dl>\n",
       "        </div>\n",
       "        \n",
       "            </div>\n",
       "        "
      ],
      "text/plain": [
       "<pyspark.sql.session.SparkSession at 0x7f36b581d7f0>"
      ]
     },
     "execution_count": 4,
     "metadata": {},
     "output_type": "execute_result"
    }
   ],
   "source": [
    "from pyspark.sql import SparkSession\n",
    "\n",
    "#os.environ['PYSPARK_SUBMIT_ARGS'] = '--packages org.apache.iceberg:iceberg-spark-runtime-3.2_2.12:1.1.0,org.mariadb.jdbc:mariadb-java-client:2.3.0,org.postgresql:postgresql:42.5.4 pyspark-shell'\n",
    "dst_lh_url  = os.environ.get('DST_LH_URL', 'spark://spark-master-0.spark-headless.demml.svc.cluster.local:7077')\n",
    "dst_lh_appn = os.environ.get('DST_LH_APPN', 'iris_naive_bayes_classification_pyspark_EDU')\n",
    "import subprocess\n",
    "my_pod_ip = subprocess.run(['hostname', '-I'], stdout=subprocess.PIPE).stdout.decode('utf-8').strip(' \\n\\t')\n",
    "my_pod_ip\n",
    "\n",
    "spark = SparkSession.builder \\\n",
    "    .master(dst_lh_url) \\\n",
    "    .appName(dst_lh_appn) \\\n",
    "    .config('spark.jars.packages','org.apache.iceberg:iceberg-spark-runtime-3.3_2.12:1.1.0,org.mariadb.jdbc:mariadb-java-client:2.3.0,org.postgresql:postgresql:42.5.4,software.amazon.awssdk:bundle:2.17.257,software.amazon.awssdk:url-connection-client:2.17.257,software.amazon.awssdk:s3:2.17.257,software.amazon.awssdk:iam:2.17.257,org.apache.hadoop:hadoop-aws:3.2.3') \\\n",
    "    .config('spark.sql.extensions','org.apache.iceberg.spark.extensions.IcebergSparkSessionExtensions') \\\n",
    "    .config('spark.sql.catalog.spark_catalog','org.apache.iceberg.spark.SparkSessionCatalog') \\\n",
    "    .config('spark.sql.catalog.spark_catalog.catalog-impl','org.apache.iceberg.jdbc.JdbcCatalog') \\\n",
    "    .config('spark.sql.catalog.spark_catalog.uri','jdbc:postgresql://postgresql:5432/iceberg') \\\n",
    "    .config('spark.driver.host', my_pod_ip) \\\n",
    "    .config('spark.sql.catalog.spark_catalog.jdbc.useSSL','false') \\\n",
    "    .config('spark.sql.catalog.spark_catalog.jdbc.user','iceberg') \\\n",
    "    .config('spark.sql.catalog.spark_catalog.jdbc.password','iceberg') \\\n",
    "    .config('spark.sql.catalog.spark_catalog.warehouse','s3a://warehouse/') \\\n",
    "    .config('spark.sql.catalog.spark_catalog.s3.endpoint','http://minio:9000') \\\n",
    "    .config('spark.sql.catalog.spark_catalog.io-impl', 'org.apache.iceberg.aws.s3.S3FileIO') \\\n",
    "    .config('spark.sql.defaultCatalog','spark_catalog') \\\n",
    "    .config('spark.hadoop.fs.s3a.endpoint','http://minio:9000') \\\n",
    "    .config('spark.hadoop.fs.s3a.access.key','admin') \\\n",
    "    .config('spark.hadoop.fs.s3a.secret.key','t4bl4red0nd4') \\\n",
    "    .config('spark.hadoop.fs.s3a.path.style.access','true') \\\n",
    "    .config('spark.hadoop.fs.s3a.impl','org.apache.hadoop.fs.s3a.S3AFileSystem') \\\n",
    "    .config(\"spark.hadoop.fs.s3a.connection.ssl.enabled\", \"false\") \\\n",
    "    .config(\"spark.hadoop.fs.s3a.aws.credentials.provider\", \"org.apache.hadoop.fs.s3a.SimpleAWSCredentialsProvider\") \\\n",
    "    .getOrCreate()\n",
    "\n",
    "import datetime as dt\n",
    "ini = dt.datetime.now()\n",
    "\n",
    "spark"
   ]
  },
  {
   "cell_type": "code",
   "execution_count": 5,
   "metadata": {
    "id": "xcsHrgdw6glu",
    "tags": []
   },
   "outputs": [
    {
     "name": "stderr",
     "output_type": "stream",
     "text": [
      "SLF4J: Failed to load class \"org.slf4j.impl.StaticLoggerBinder\".\n",
      "SLF4J: Defaulting to no-operation (NOP) logger implementation\n",
      "SLF4J: See http://www.slf4j.org/codes.html#StaticLoggerBinder for further details.\n"
     ]
    }
   ],
   "source": [
    "iris = spark.table(\"spark_catalog.default.IRIS_EDU_V5\")"
   ]
  },
  {
   "cell_type": "code",
   "execution_count": 6,
   "metadata": {
    "id": "BRXO_exO6glv",
    "outputId": "7a90e4a4-f536-44e3-fbc1-020f331caf21",
    "tags": []
   },
   "outputs": [
    {
     "name": "stderr",
     "output_type": "stream",
     "text": [
      "[Stage 0:>                                                          (0 + 1) / 1]\r"
     ]
    },
    {
     "name": "stdout",
     "output_type": "stream",
     "text": [
      "+------------+-----------+------------+-----------+----------+------+\n",
      "|sepal_length|sepal_width|petal_length|petal_width|   variety|target|\n",
      "+------------+-----------+------------+-----------+----------+------+\n",
      "|         6.4|        2.7|         5.3|        1.9| virginica|     2|\n",
      "|         5.6|        2.5|         3.9|        1.1|versicolor|     1|\n",
      "|         6.1|        2.8|         4.0|        1.3|versicolor|     1|\n",
      "|         6.9|        3.1|         5.1|        2.3| virginica|     2|\n",
      "|         6.1|        2.8|         4.7|        1.2|versicolor|     1|\n",
      "|         5.4|        3.9|         1.3|        0.4|    setosa|     0|\n",
      "|         5.9|        3.0|         4.2|        1.5|versicolor|     1|\n",
      "|         6.9|        3.1|         5.4|        2.1| virginica|     2|\n",
      "|         5.0|        3.2|         1.2|        0.2|    setosa|     0|\n",
      "|         5.0|        2.0|         3.5|        1.0|versicolor|     1|\n",
      "|         6.4|        2.7|         5.3|        1.9| virginica|     2|\n",
      "|         5.5|        2.6|         4.4|        1.2|versicolor|     1|\n",
      "|         5.2|        3.5|         1.5|        0.2|    setosa|     0|\n",
      "|         5.1|        3.3|         1.7|        0.5|    setosa|     0|\n",
      "|         5.4|        3.9|         1.7|        0.4|    setosa|     0|\n",
      "|         5.4|        3.9|         1.3|        0.4|    setosa|     0|\n",
      "|         6.7|        3.1|         5.6|        2.4| virginica|     2|\n",
      "|         5.7|        2.8|         4.5|        1.3|versicolor|     1|\n",
      "|         6.5|        3.0|         5.2|        2.0| virginica|     2|\n",
      "|         6.1|        2.8|         4.7|        1.2|versicolor|     1|\n",
      "+------------+-----------+------------+-----------+----------+------+\n",
      "only showing top 20 rows\n",
      "\n"
     ]
    },
    {
     "name": "stderr",
     "output_type": "stream",
     "text": [
      "                                                                                \r"
     ]
    }
   ],
   "source": [
    "iris.show()"
   ]
  },
  {
   "cell_type": "code",
   "execution_count": 7,
   "metadata": {
    "id": "gFDhxcnB6glv",
    "outputId": "d8a8bac0-6563-40c0-b048-b511b01159a8",
    "tags": []
   },
   "outputs": [
    {
     "name": "stdout",
     "output_type": "stream",
     "text": [
      "root\n",
      " |-- sepal_length: double (nullable = true)\n",
      " |-- sepal_width: double (nullable = true)\n",
      " |-- petal_length: double (nullable = true)\n",
      " |-- petal_width: double (nullable = true)\n",
      " |-- variety: string (nullable = true)\n",
      " |-- target: integer (nullable = true)\n",
      "\n"
     ]
    }
   ],
   "source": [
    "iris.printSchema()"
   ]
  },
  {
   "cell_type": "code",
   "execution_count": 8,
   "metadata": {
    "id": "9TorzEMY6glw",
    "outputId": "0745875e-6c4b-4522-e015-db2e400d6fc6",
    "tags": []
   },
   "outputs": [
    {
     "data": {
      "text/plain": [
       "['sepal_length',\n",
       " 'sepal_width',\n",
       " 'petal_length',\n",
       " 'petal_width',\n",
       " 'variety',\n",
       " 'target']"
      ]
     },
     "execution_count": 8,
     "metadata": {},
     "output_type": "execute_result"
    }
   ],
   "source": [
    "iris.columns"
   ]
  },
  {
   "cell_type": "code",
   "execution_count": 9,
   "metadata": {
    "id": "ooSm4UaF6glw",
    "tags": []
   },
   "outputs": [],
   "source": [
    "from pyspark.ml.feature import VectorAssembler \n",
    "\n",
    "featureassembler = VectorAssembler(inputCols=[\n",
    "    'sepal_length',\n",
    "    'sepal_width',\n",
    "    'petal_length',\n",
    "    'petal_width'\n",
    "], outputCol='Features')"
   ]
  },
  {
   "cell_type": "code",
   "execution_count": 10,
   "metadata": {
    "id": "jJt4WucO6glw",
    "tags": []
   },
   "outputs": [],
   "source": [
    "output = featureassembler.transform(iris)"
   ]
  },
  {
   "cell_type": "code",
   "execution_count": 11,
   "metadata": {
    "id": "jY_eaYl_6glw",
    "outputId": "9a7dadf0-792d-4341-f327-67521b41618d",
    "tags": []
   },
   "outputs": [
    {
     "name": "stderr",
     "output_type": "stream",
     "text": [
      "[Stage 1:>                                                          (0 + 1) / 1]\r"
     ]
    },
    {
     "name": "stdout",
     "output_type": "stream",
     "text": [
      "+------------+-----------+------------+-----------+----------+------+-----------------+\n",
      "|sepal_length|sepal_width|petal_length|petal_width|   variety|target|         Features|\n",
      "+------------+-----------+------------+-----------+----------+------+-----------------+\n",
      "|         6.4|        2.7|         5.3|        1.9| virginica|     2|[6.4,2.7,5.3,1.9]|\n",
      "|         5.6|        2.5|         3.9|        1.1|versicolor|     1|[5.6,2.5,3.9,1.1]|\n",
      "|         6.1|        2.8|         4.0|        1.3|versicolor|     1|[6.1,2.8,4.0,1.3]|\n",
      "|         6.9|        3.1|         5.1|        2.3| virginica|     2|[6.9,3.1,5.1,2.3]|\n",
      "|         6.1|        2.8|         4.7|        1.2|versicolor|     1|[6.1,2.8,4.7,1.2]|\n",
      "|         5.4|        3.9|         1.3|        0.4|    setosa|     0|[5.4,3.9,1.3,0.4]|\n",
      "|         5.9|        3.0|         4.2|        1.5|versicolor|     1|[5.9,3.0,4.2,1.5]|\n",
      "|         6.9|        3.1|         5.4|        2.1| virginica|     2|[6.9,3.1,5.4,2.1]|\n",
      "|         5.0|        3.2|         1.2|        0.2|    setosa|     0|[5.0,3.2,1.2,0.2]|\n",
      "|         5.0|        2.0|         3.5|        1.0|versicolor|     1|[5.0,2.0,3.5,1.0]|\n",
      "|         6.4|        2.7|         5.3|        1.9| virginica|     2|[6.4,2.7,5.3,1.9]|\n",
      "|         5.5|        2.6|         4.4|        1.2|versicolor|     1|[5.5,2.6,4.4,1.2]|\n",
      "|         5.2|        3.5|         1.5|        0.2|    setosa|     0|[5.2,3.5,1.5,0.2]|\n",
      "|         5.1|        3.3|         1.7|        0.5|    setosa|     0|[5.1,3.3,1.7,0.5]|\n",
      "|         5.4|        3.9|         1.7|        0.4|    setosa|     0|[5.4,3.9,1.7,0.4]|\n",
      "|         5.4|        3.9|         1.3|        0.4|    setosa|     0|[5.4,3.9,1.3,0.4]|\n",
      "|         6.7|        3.1|         5.6|        2.4| virginica|     2|[6.7,3.1,5.6,2.4]|\n",
      "|         5.7|        2.8|         4.5|        1.3|versicolor|     1|[5.7,2.8,4.5,1.3]|\n",
      "|         6.5|        3.0|         5.2|        2.0| virginica|     2|[6.5,3.0,5.2,2.0]|\n",
      "|         6.1|        2.8|         4.7|        1.2|versicolor|     1|[6.1,2.8,4.7,1.2]|\n",
      "+------------+-----------+------------+-----------+----------+------+-----------------+\n",
      "only showing top 20 rows\n",
      "\n"
     ]
    },
    {
     "name": "stderr",
     "output_type": "stream",
     "text": [
      "                                                                                \r"
     ]
    }
   ],
   "source": [
    "output.show()"
   ]
  },
  {
   "cell_type": "code",
   "execution_count": 12,
   "metadata": {
    "id": "08O1r4kX6glx",
    "tags": []
   },
   "outputs": [],
   "source": [
    "modeldata = output.select('Features','target')"
   ]
  },
  {
   "cell_type": "code",
   "execution_count": 13,
   "metadata": {
    "id": "DyyYW9Ml6glx",
    "outputId": "134fb7db-9857-4660-fb99-4f03e939ff1f",
    "tags": []
   },
   "outputs": [
    {
     "name": "stderr",
     "output_type": "stream",
     "text": [
      "[Stage 2:>                                                          (0 + 1) / 1]\r"
     ]
    },
    {
     "name": "stdout",
     "output_type": "stream",
     "text": [
      "+-----------------+------+\n",
      "|         Features|target|\n",
      "+-----------------+------+\n",
      "|[6.0,2.2,4.0,1.0]|     1|\n",
      "|[6.2,2.8,4.8,1.8]|     2|\n",
      "|[5.1,3.8,1.5,0.3]|     0|\n",
      "|[6.7,3.0,5.2,2.3]|     2|\n",
      "|[5.1,3.5,1.4,0.2]|     0|\n",
      "|[5.1,3.3,1.7,0.5]|     0|\n",
      "|[6.9,3.2,5.7,2.3]|     2|\n",
      "|[5.1,3.8,1.5,0.3]|     0|\n",
      "|[6.3,2.9,5.6,1.8]|     2|\n",
      "|[5.0,2.3,3.3,1.0]|     1|\n",
      "|[7.2,3.2,6.0,1.8]|     2|\n",
      "|[6.2,2.2,4.5,1.5]|     1|\n",
      "|[5.1,3.8,1.6,0.2]|     0|\n",
      "|[5.7,2.9,4.2,1.3]|     1|\n",
      "|[4.7,3.2,1.3,0.2]|     0|\n",
      "|[5.0,2.0,3.5,1.0]|     1|\n",
      "|[5.7,3.8,1.7,0.3]|     0|\n",
      "|[5.2,4.1,1.5,0.1]|     0|\n",
      "|[7.3,2.9,6.3,1.8]|     2|\n",
      "|[6.7,3.1,5.6,2.4]|     2|\n",
      "+-----------------+------+\n",
      "only showing top 20 rows\n",
      "\n"
     ]
    },
    {
     "name": "stderr",
     "output_type": "stream",
     "text": [
      "                                                                                \r"
     ]
    }
   ],
   "source": [
    "modeldata.show()"
   ]
  },
  {
   "cell_type": "code",
   "execution_count": 14,
   "metadata": {
    "id": "-KbpnDWC6glx",
    "tags": []
   },
   "outputs": [],
   "source": [
    "# split data\n",
    "train_data, test_data = modeldata.randomSplit([0.8,0.2])"
   ]
  },
  {
   "cell_type": "code",
   "execution_count": 15,
   "metadata": {
    "id": "tZcfp4R26glx",
    "outputId": "f0292f68-2a9b-4202-df46-c86002ce9fd6",
    "tags": []
   },
   "outputs": [
    {
     "name": "stderr",
     "output_type": "stream",
     "text": [
      "[Stage 3:>                                                          (0 + 1) / 1]\r"
     ]
    },
    {
     "name": "stdout",
     "output_type": "stream",
     "text": [
      "+-----------------+------+\n",
      "|         Features|target|\n",
      "+-----------------+------+\n",
      "|[4.3,3.0,1.1,0.1]|     0|\n",
      "|[4.3,3.0,1.1,0.1]|     0|\n",
      "|[4.3,3.0,1.1,0.1]|     0|\n",
      "|[4.3,3.0,1.1,0.1]|     0|\n",
      "|[4.3,3.0,1.1,0.1]|     0|\n",
      "|[4.3,3.0,1.1,0.1]|     0|\n",
      "|[4.3,3.0,1.1,0.1]|     0|\n",
      "|[4.3,3.0,1.1,0.1]|     0|\n",
      "|[4.3,3.0,1.1,0.1]|     0|\n",
      "|[4.3,3.0,1.1,0.1]|     0|\n",
      "|[4.3,3.0,1.1,0.1]|     0|\n",
      "|[4.3,3.0,1.1,0.1]|     0|\n",
      "|[4.3,3.0,1.1,0.1]|     0|\n",
      "|[4.3,3.0,1.1,0.1]|     0|\n",
      "|[4.3,3.0,1.1,0.1]|     0|\n",
      "|[4.3,3.0,1.1,0.1]|     0|\n",
      "|[4.3,3.0,1.1,0.1]|     0|\n",
      "|[4.3,3.0,1.1,0.1]|     0|\n",
      "|[4.3,3.0,1.1,0.1]|     0|\n",
      "|[4.3,3.0,1.1,0.1]|     0|\n",
      "+-----------------+------+\n",
      "only showing top 20 rows\n",
      "\n"
     ]
    },
    {
     "name": "stderr",
     "output_type": "stream",
     "text": [
      "                                                                                \r"
     ]
    }
   ],
   "source": [
    "train_data.show()"
   ]
  },
  {
   "cell_type": "code",
   "execution_count": 16,
   "metadata": {
    "id": "b5MoY_w46gly",
    "tags": []
   },
   "outputs": [
    {
     "name": "stderr",
     "output_type": "stream",
     "text": [
      "                                                                                \r"
     ]
    }
   ],
   "source": [
    "# naive bayes model\n",
    "from pyspark.ml.classification import NaiveBayes\n",
    "\n",
    "nb = NaiveBayes(featuresCol='Features', labelCol='target')\n",
    "\n",
    "nb = nb.fit(train_data)"
   ]
  },
  {
   "cell_type": "code",
   "execution_count": 17,
   "metadata": {
    "id": "yyk6Ost36gly",
    "tags": []
   },
   "outputs": [],
   "source": [
    "# prediction\n",
    "y_pred = nb.transform(test_data)"
   ]
  },
  {
   "cell_type": "code",
   "execution_count": 18,
   "metadata": {
    "id": "TLNLJhI16gly",
    "outputId": "f7032172-3978-4e3a-8a5d-121e1e5aeab7",
    "tags": []
   },
   "outputs": [
    {
     "name": "stderr",
     "output_type": "stream",
     "text": [
      "[Stage 7:>                                                          (0 + 1) / 1]\r"
     ]
    },
    {
     "name": "stdout",
     "output_type": "stream",
     "text": [
      "+-----------------+------+--------------------+--------------------+----------+\n",
      "|         Features|target|       rawPrediction|         probability|prediction|\n",
      "+-----------------+------+--------------------+--------------------+----------+\n",
      "|[4.3,3.0,1.1,0.1]|     0|[-9.8912073406596...|[0.73533777871588...|       0.0|\n",
      "|[4.3,3.0,1.1,0.1]|     0|[-9.8912073406596...|[0.73533777871588...|       0.0|\n",
      "|[4.3,3.0,1.1,0.1]|     0|[-9.8912073406596...|[0.73533777871588...|       0.0|\n",
      "|[4.3,3.0,1.1,0.1]|     0|[-9.8912073406596...|[0.73533777871588...|       0.0|\n",
      "|[4.3,3.0,1.1,0.1]|     0|[-9.8912073406596...|[0.73533777871588...|       0.0|\n",
      "|[4.3,3.0,1.1,0.1]|     0|[-9.8912073406596...|[0.73533777871588...|       0.0|\n",
      "|[4.3,3.0,1.1,0.1]|     0|[-9.8912073406596...|[0.73533777871588...|       0.0|\n",
      "|[4.3,3.0,1.1,0.1]|     0|[-9.8912073406596...|[0.73533777871588...|       0.0|\n",
      "|[4.3,3.0,1.1,0.1]|     0|[-9.8912073406596...|[0.73533777871588...|       0.0|\n",
      "|[4.3,3.0,1.1,0.1]|     0|[-9.8912073406596...|[0.73533777871588...|       0.0|\n",
      "|[4.3,3.0,1.1,0.1]|     0|[-9.8912073406596...|[0.73533777871588...|       0.0|\n",
      "|[4.3,3.0,1.1,0.1]|     0|[-9.8912073406596...|[0.73533777871588...|       0.0|\n",
      "|[4.3,3.0,1.1,0.1]|     0|[-9.8912073406596...|[0.73533777871588...|       0.0|\n",
      "|[4.3,3.0,1.1,0.1]|     0|[-9.8912073406596...|[0.73533777871588...|       0.0|\n",
      "|[4.3,3.0,1.1,0.1]|     0|[-9.8912073406596...|[0.73533777871588...|       0.0|\n",
      "|[4.3,3.0,1.1,0.1]|     0|[-9.8912073406596...|[0.73533777871588...|       0.0|\n",
      "|[4.3,3.0,1.1,0.1]|     0|[-9.8912073406596...|[0.73533777871588...|       0.0|\n",
      "|[4.3,3.0,1.1,0.1]|     0|[-9.8912073406596...|[0.73533777871588...|       0.0|\n",
      "|[4.3,3.0,1.1,0.1]|     0|[-9.8912073406596...|[0.73533777871588...|       0.0|\n",
      "|[4.3,3.0,1.1,0.1]|     0|[-9.8912073406596...|[0.73533777871588...|       0.0|\n",
      "+-----------------+------+--------------------+--------------------+----------+\n",
      "only showing top 20 rows\n",
      "\n"
     ]
    },
    {
     "name": "stderr",
     "output_type": "stream",
     "text": [
      "                                                                                \r"
     ]
    }
   ],
   "source": [
    "y_pred.show()"
   ]
  },
  {
   "cell_type": "code",
   "execution_count": 19,
   "metadata": {
    "id": "aP0v4QDgrP8Q",
    "outputId": "abe8c5b4-e70a-43c3-8f47-e388e3606c8a",
    "tags": []
   },
   "outputs": [
    {
     "name": "stderr",
     "output_type": "stream",
     "text": [
      "[Stage 8:========================================================>(94 + 1) / 95]\r"
     ]
    },
    {
     "name": "stdout",
     "output_type": "stream",
     "text": [
      "+------+----------+-------+\n",
      "|target|prediction|  count|\n",
      "+------+----------+-------+\n",
      "|     2|       1.0|  62092|\n",
      "|     0|       0.0|1036648|\n",
      "|     1|       2.0|  82739|\n",
      "|     2|       2.0| 971770|\n",
      "|     1|       1.0| 950430|\n",
      "+------+----------+-------+\n",
      "\n"
     ]
    },
    {
     "name": "stderr",
     "output_type": "stream",
     "text": [
      "                                                                                \r"
     ]
    }
   ],
   "source": [
    "# confusion matrix\n",
    "y_pred.groupBy('target', 'prediction').count().show()"
   ]
  },
  {
   "cell_type": "code",
   "execution_count": 20,
   "metadata": {
    "id": "57T0b7gOw_t9",
    "outputId": "6cd071ea-98b2-463e-d089-9cca765edd67",
    "tags": []
   },
   "outputs": [],
   "source": [
    "# from sklearn.metrics import confusion_matrix\n",
    "# pred = y_pred.select(\"prediction\").collect()\n",
    "# orig = y_pred.select(\"target\").collect()\n",
    "# print(confusion_matrix(orig, pred))"
   ]
  },
  {
   "cell_type": "code",
   "execution_count": 21,
   "metadata": {},
   "outputs": [
    {
     "data": {
      "text/plain": [
       "Param(parent='MulticlassClassificationEvaluator_4c91ccebfa82', name='metricName', doc='metric name in evaluation (f1|accuracy|weightedPrecision|weightedRecall|weightedTruePositiveRate| weightedFalsePositiveRate|weightedFMeasure|truePositiveRateByLabel| falsePositiveRateByLabel|precisionByLabel|recallByLabel|fMeasureByLabel| logLoss|hammingLoss)')"
      ]
     },
     "execution_count": 21,
     "metadata": {},
     "output_type": "execute_result"
    }
   ],
   "source": [
    "# evaluation\n",
    "from pyspark.ml.evaluation import MulticlassClassificationEvaluator\n",
    "\n",
    "evaluator = MulticlassClassificationEvaluator(\n",
    "    labelCol='target', predictionCol='prediction'\n",
    ")\n",
    "\n",
    "evaluator.metricName"
   ]
  },
  {
   "cell_type": "code",
   "execution_count": 22,
   "metadata": {
    "id": "HNbJEY7A_3NG",
    "outputId": "5e49e02e-cfbc-4e50-f066-aa1659c60261",
    "tags": []
   },
   "outputs": [
    {
     "name": "stderr",
     "output_type": "stream",
     "text": [
      "[Stage 17:======================================================> (93 + 2) / 95]\r"
     ]
    },
    {
     "name": "stdout",
     "output_type": "stream",
     "text": [
      "Accuracy: 0.9533791303637631\n",
      "Precision: 0.9534605229883248\n",
      "Recall: 0.953356660480462\n",
      "F1 Score: 0.9533551088007102\n"
     ]
    },
    {
     "name": "stderr",
     "output_type": "stream",
     "text": [
      "                                                                                \r"
     ]
    }
   ],
   "source": [
    "accuracy = evaluator.evaluate(y_pred)\n",
    "precision = evaluator.evaluate(y_pred, {evaluator.metricName: 'weightedPrecision'})\n",
    "recall = evaluator.evaluate(y_pred, {evaluator.metricName: 'weightedRecall'})\n",
    "f1_score = evaluator.evaluate(y_pred, {evaluator.metricName: 'f1'})\n",
    "\n",
    "print(f'Accuracy: {accuracy}')\n",
    "print(f'Precision: {precision}')\n",
    "print(f'Recall: {recall}')\n",
    "print(f'F1 Score: {f1_score}')"
   ]
  },
  {
   "cell_type": "code",
   "execution_count": 23,
   "metadata": {
    "id": "T5fn3z4r6gly",
    "tags": []
   },
   "outputs": [],
   "source": [
    "# close connection to spark\n",
    "spark.stop()"
   ]
  },
  {
   "cell_type": "code",
   "execution_count": 24,
   "metadata": {
    "tags": []
   },
   "outputs": [
    {
     "name": "stdout",
     "output_type": "stream",
     "text": [
      "0:04:28.375295\n"
     ]
    }
   ],
   "source": [
    "fin = dt.datetime.now()\n",
    "\n",
    "print(str(fin - ini))"
   ]
  },
  {
   "cell_type": "code",
   "execution_count": null,
   "metadata": {},
   "outputs": [],
   "source": []
  }
 ],
 "metadata": {
  "kernelspec": {
   "display_name": "Python 3 (ipykernel)",
   "language": "python",
   "name": "python3"
  },
  "language_info": {
   "codemirror_mode": {
    "name": "ipython",
    "version": 3
   },
   "file_extension": ".py",
   "mimetype": "text/x-python",
   "name": "python",
   "nbconvert_exporter": "python",
   "pygments_lexer": "ipython3",
   "version": "3.8.13"
  }
 },
 "nbformat": 4,
 "nbformat_minor": 4
}
